{
  "nbformat": 4,
  "nbformat_minor": 0,
  "metadata": {
    "colab": {
      "provenance": []
    },
    "kernelspec": {
      "name": "python3",
      "display_name": "Python 3"
    },
    "language_info": {
      "name": "python"
    }
  },
  "cells": [
    {
      "cell_type": "markdown",
      "source": [
        "# Files, exceptional handling, logging and memory management Questions"
      ],
      "metadata": {
        "id": "MNwS_wQz-JMt"
      }
    },
    {
      "cell_type": "markdown",
      "source": [
        "**1.What is the difference between interpreted and compiled languages**"
      ],
      "metadata": {
        "id": "f0dLjbOO-TZr"
      }
    },
    {
      "cell_type": "markdown",
      "metadata": {
        "id": "6033f8b5"
      },
      "source": [
        "Interpreted and compiled languages differ in how the code is executed.\n",
        "\n",
        "**Compiled languages** are translated into machine code before execution. This process is done by a compiler, which reads the entire code and converts it into a low-level format that the computer can understand and run directly. This typically results in faster execution because the translation step is done only once. Examples include C, C++, and Java.\n",
        "\n",
        "**Interpreted languages**, on the other hand, are translated line by line at runtime. An interpreter reads and executes the code instruction by instruction. This means the code doesn't need to be compiled beforehand, making development cycles faster. However, interpreted code generally runs slower than compiled code because the translation happens during execution. Examples include Python, JavaScript, and Ruby.\n",
        "\n",
        "In essence:\n",
        "\n",
        "*   **Compiled:** Translation happens *before* execution (faster runtime).\n",
        "*   **Interpreted:** Translation happens *during* execution (faster development)."
      ]
    },
    {
      "cell_type": "markdown",
      "source": [
        "**2.What is exception handling in Python**"
      ],
      "metadata": {
        "id": "VijhwUF3-kCH"
      }
    },
    {
      "cell_type": "markdown",
      "metadata": {
        "id": "0c730437"
      },
      "source": [
        "Exception handling in Python is a mechanism that allows you to gracefully manage errors and unexpected events that occur during the execution of your program. These events, called exceptions, can disrupt the normal flow of your code.\n",
        "\n",
        "Without exception handling, if an error occurs, the program would typically crash and stop. With exception handling, you can anticipate potential errors, catch them when they happen, and define how your program should respond. This makes your code more robust and less likely to terminate unexpectedly.\n",
        "\n",
        "The primary constructs for exception handling in Python are `try`, `except`, `else`, and `finally`:\n",
        "\n",
        "*   **`try`**: This block contains the code that might raise an exception.\n",
        "*   **`except`**: If an exception occurs in the `try` block, the code in the `except` block is executed. You can specify the type of exception to catch.\n",
        "*   **`else`**: The code in the `else` block is executed if the `try` block runs without raising any exceptions.\n",
        "*   **`finally`**: The code in the `finally` block is always executed, regardless of whether an exception occurred or not. This is often used for cleanup operations.\n",
        "\n",
        "For example, if you try to divide by zero, Python will raise a `ZeroDivisionError`. You can use a `try...except` block to catch this error and print a user-friendly message instead of crashing the program."
      ]
    },
    {
      "cell_type": "markdown",
      "source": [
        "**3.What is the purpose of the finally block in exception handling**"
      ],
      "metadata": {
        "id": "X7Pdo-Sq-_Vx"
      }
    },
    {
      "cell_type": "markdown",
      "metadata": {
        "id": "68d68e65"
      },
      "source": [
        "- The `finally` block in exception handling in Python is used to define a block of code that will be executed regardless of whether an exception occurred in the `try` block or not.\n",
        "\n",
        "Its primary purpose is to ensure that certain cleanup operations are always performed, even if an error happens. This is crucial for releasing resources that might have been acquired in the `try` block, such as closing files, releasing network connections, or stopping threads.\n",
        "\n",
        "For example, if you open a file in the `try` block, you should use the `finally` block to ensure the file is closed, even if an error occurs while processing the file's contents. This prevents resource leaks and ensures your program behaves correctly."
      ]
    },
    {
      "cell_type": "markdown",
      "source": [
        "**4. What is logging in Python**"
      ],
      "metadata": {
        "id": "-X9Tp0os_KYf"
      }
    },
    {
      "cell_type": "markdown",
      "metadata": {
        "id": "3b675a67"
      },
      "source": [
        "Logging in Python is a powerful built-in module that provides a standardized way to track events that happen while your program is running. These events can be anything from simple informational messages to critical errors.\n",
        "\n",
        "**Why is logging important?**\n",
        "\n",
        "*   **Debugging:** Logs provide valuable information about the state of your program at different points during execution, making it much easier to identify and fix bugs.\n",
        "*   **Monitoring:** You can use logs to monitor the behavior of your application in production, tracking performance, resource usage, and potential issues.\n",
        "*   **Auditing:** Logs can serve as an audit trail, recording important actions and events for security and compliance purposes.\n",
        "*   **Separation of Concerns:** Logging allows you to separate the logic of your program from the task of reporting events.\n",
        "\n",
        "**How to use the `logging` module:**\n",
        "\n",
        "The `logging` module provides different levels of severity for messages:\n",
        "\n",
        "*   **`DEBUG`:** Detailed information, typically only of interest when diagnosing problems.\n",
        "*   **`INFO`:** Confirmation that things are working as expected.\n",
        "*   **`WARNING`:** An indication that something unexpected happened, or indicative of some problem in the near future (e.g. 'disk space low'). The software is still working as expected.\n",
        "*   **`ERROR`:** Due to a more serious problem, the software has not been able to perform some function.\n",
        "*   **`CRITICAL`:** A serious error, indicating that the program itself may be unable to continue running.\n",
        "\n",
        "You can log messages at different levels using functions like `logging.debug()`, `logging.info()`, `logging.warning()`, `logging.error()`, and `logging.critical()`.\n",
        "\n",
        "By default, logging messages are sent to the console. However, you can configure logging to write messages to a file, send them to a network server, or even send them in an email.\n",
        "\n",
        "Here's a simple example:"
      ]
    },
    {
      "cell_type": "markdown",
      "source": [
        "**5.What is the significance of the __del__ method in Python**"
      ],
      "metadata": {
        "id": "kAU3eC5Z_oQU"
      }
    },
    {
      "cell_type": "markdown",
      "metadata": {
        "id": "908702df"
      },
      "source": [
        "The `__del__` method in Python, also known as the destructor, is a special method that gets called when an object is about to be garbage collected. Garbage collection is the process by which Python automatically reclaims memory occupied by objects that are no longer being used.\n",
        "\n",
        "**Significance of `__del__`:**\n",
        "\n",
        "*   **Resource Cleanup:** The primary use of `__del__` is for resource cleanup. If an object holds external resources (like file handles, network connections, or database connections) that need to be explicitly released when the object is no longer needed, you can use `__del__` to perform these cleanup operations.\n",
        "*   **Finalization:** It provides a way to perform finalization tasks before an object is completely destroyed.\n",
        "\n",
        "**Important Considerations and Limitations:**\n",
        "\n",
        "*   **Unpredictable Timing:** The exact time when `__del__` is called is not guaranteed. Python's garbage collector determines when objects are no longer referenced and can be collected. This means you cannot rely on `__del__` for timely resource release in all situations.\n",
        "*   **Circular References:** If there are circular references between objects, they might not be garbage collected immediately, and `__del__` might not be called as expected.\n",
        "*   **Exceptions in `__del__`:** Raising exceptions within `__del__` can lead to unexpected behavior and potentially prevent the program from terminating cleanly.\n",
        "*   **Alternatives:** In many cases, using `with` statements (for context managers) or explicit `close()` methods is a more reliable way to manage resources and ensure timely cleanup than relying on `__del__`.\n",
        "\n",
        "In summary, while `__del__` exists for resource cleanup, its unpredictable nature and potential issues make it less preferred than explicit resource management techniques like context managers for most use cases. It's typically used in specific scenarios where you need to perform finalization for objects that manage external resources and where the timing of cleanup is not critical."
      ]
    },
    {
      "cell_type": "markdown",
      "source": [
        "**6.What is the difference between import and from ... import in Python**"
      ],
      "metadata": {
        "id": "RS_dDH1-_0QN"
      }
    },
    {
      "cell_type": "markdown",
      "metadata": {
        "id": "8bca0eb2"
      },
      "source": [
        "In Python, both `import` and `from ... import` are used to bring modules or specific objects from modules into your current namespace, but they do so in slightly different ways:\n",
        "\n",
        "**`import module_name`**\n",
        "\n",
        "*   This is the most basic way to import a module.\n",
        "*   When you use `import module_name`, you bring the entire module into your current scope.\n",
        "*   To access anything within the module (functions, classes, variables), you need to use the module name followed by a dot (`.`) and the object's name (e.g., `module_name.object_name`).\n",
        "*   This approach helps to avoid naming conflicts if different modules have objects with the same name.\n",
        "\n",
        "**Example:**"
      ]
    },
    {
      "cell_type": "code",
      "metadata": {
        "colab": {
          "base_uri": "https://localhost:8080/"
        },
        "id": "561f7f8f",
        "outputId": "9c32d821-fcc1-4ef9-b005-4f42fdb31b79"
      },
      "source": [
        "from math import sqrt\n",
        "\n",
        "print(sqrt(16))"
      ],
      "execution_count": null,
      "outputs": [
        {
          "output_type": "stream",
          "name": "stdout",
          "text": [
            "4.0\n"
          ]
        }
      ]
    },
    {
      "cell_type": "markdown",
      "source": [
        "**7.How can you handle multiple exceptions in Python**"
      ],
      "metadata": {
        "id": "GfYkgo3XADNl"
      }
    },
    {
      "cell_type": "markdown",
      "metadata": {
        "id": "ac1e2345"
      },
      "source": [
        "In Python, you can handle multiple exceptions in a single `try...except` block in several ways:\n",
        "\n",
        "**1. Using multiple `except` blocks:**\n",
        "\n",
        "You can include multiple `except` blocks after a single `try` block. Each `except` block can handle a specific type of exception. If an exception occurs in the `try` block, Python will check each `except` block in order and execute the first one that matches the exception type."
      ]
    },
    {
      "cell_type": "code",
      "metadata": {
        "colab": {
          "base_uri": "https://localhost:8080/",
          "height": 356
        },
        "id": "bd409975",
        "outputId": "650c50aa-5d83-48f1-801e-57bdd00f96e0"
      },
      "source": [
        "try:\n",
        "    # Code that might raise exceptions\n",
        "    num = int(input(\"Enter a number: \"))\n",
        "    result = 10 / num\n",
        "    print(result)\n",
        "except (ValueError, ZeroDivisionError):\n",
        "    print(\"An error occurred due to invalid input or division by zero.\")\n",
        "except Exception as e:\n",
        "    print(f\"An unexpected error occurred: {e}\")"
      ],
      "execution_count": null,
      "outputs": [
        {
          "output_type": "error",
          "ename": "KeyboardInterrupt",
          "evalue": "Interrupted by user",
          "traceback": [
            "\u001b[0;31m---------------------------------------------------------------------------\u001b[0m",
            "\u001b[0;31mKeyboardInterrupt\u001b[0m                         Traceback (most recent call last)",
            "\u001b[0;32m/tmp/ipython-input-4002876248.py\u001b[0m in \u001b[0;36m<cell line: 0>\u001b[0;34m()\u001b[0m\n\u001b[1;32m      1\u001b[0m \u001b[0;32mtry\u001b[0m\u001b[0;34m:\u001b[0m\u001b[0;34m\u001b[0m\u001b[0;34m\u001b[0m\u001b[0m\n\u001b[1;32m      2\u001b[0m     \u001b[0;31m# Code that might raise exceptions\u001b[0m\u001b[0;34m\u001b[0m\u001b[0;34m\u001b[0m\u001b[0m\n\u001b[0;32m----> 3\u001b[0;31m     \u001b[0mnum\u001b[0m \u001b[0;34m=\u001b[0m \u001b[0mint\u001b[0m\u001b[0;34m(\u001b[0m\u001b[0minput\u001b[0m\u001b[0;34m(\u001b[0m\u001b[0;34m\"Enter a number: \"\u001b[0m\u001b[0;34m)\u001b[0m\u001b[0;34m)\u001b[0m\u001b[0;34m\u001b[0m\u001b[0;34m\u001b[0m\u001b[0m\n\u001b[0m\u001b[1;32m      4\u001b[0m     \u001b[0mresult\u001b[0m \u001b[0;34m=\u001b[0m \u001b[0;36m10\u001b[0m \u001b[0;34m/\u001b[0m \u001b[0mnum\u001b[0m\u001b[0;34m\u001b[0m\u001b[0;34m\u001b[0m\u001b[0m\n\u001b[1;32m      5\u001b[0m     \u001b[0mprint\u001b[0m\u001b[0;34m(\u001b[0m\u001b[0mresult\u001b[0m\u001b[0;34m)\u001b[0m\u001b[0;34m\u001b[0m\u001b[0;34m\u001b[0m\u001b[0m\n",
            "\u001b[0;32m/usr/local/lib/python3.12/dist-packages/ipykernel/kernelbase.py\u001b[0m in \u001b[0;36mraw_input\u001b[0;34m(self, prompt)\u001b[0m\n\u001b[1;32m   1175\u001b[0m                 \u001b[0;34m\"raw_input was called, but this frontend does not support input requests.\"\u001b[0m\u001b[0;34m\u001b[0m\u001b[0;34m\u001b[0m\u001b[0m\n\u001b[1;32m   1176\u001b[0m             )\n\u001b[0;32m-> 1177\u001b[0;31m         return self._input_request(\n\u001b[0m\u001b[1;32m   1178\u001b[0m             \u001b[0mstr\u001b[0m\u001b[0;34m(\u001b[0m\u001b[0mprompt\u001b[0m\u001b[0;34m)\u001b[0m\u001b[0;34m,\u001b[0m\u001b[0;34m\u001b[0m\u001b[0;34m\u001b[0m\u001b[0m\n\u001b[1;32m   1179\u001b[0m             \u001b[0mself\u001b[0m\u001b[0;34m.\u001b[0m\u001b[0m_parent_ident\u001b[0m\u001b[0;34m[\u001b[0m\u001b[0;34m\"shell\"\u001b[0m\u001b[0;34m]\u001b[0m\u001b[0;34m,\u001b[0m\u001b[0;34m\u001b[0m\u001b[0;34m\u001b[0m\u001b[0m\n",
            "\u001b[0;32m/usr/local/lib/python3.12/dist-packages/ipykernel/kernelbase.py\u001b[0m in \u001b[0;36m_input_request\u001b[0;34m(self, prompt, ident, parent, password)\u001b[0m\n\u001b[1;32m   1217\u001b[0m             \u001b[0;32mexcept\u001b[0m \u001b[0mKeyboardInterrupt\u001b[0m\u001b[0;34m:\u001b[0m\u001b[0;34m\u001b[0m\u001b[0;34m\u001b[0m\u001b[0m\n\u001b[1;32m   1218\u001b[0m                 \u001b[0;31m# re-raise KeyboardInterrupt, to truncate traceback\u001b[0m\u001b[0;34m\u001b[0m\u001b[0;34m\u001b[0m\u001b[0m\n\u001b[0;32m-> 1219\u001b[0;31m                 \u001b[0;32mraise\u001b[0m \u001b[0mKeyboardInterrupt\u001b[0m\u001b[0;34m(\u001b[0m\u001b[0;34m\"Interrupted by user\"\u001b[0m\u001b[0;34m)\u001b[0m \u001b[0;32mfrom\u001b[0m \u001b[0;32mNone\u001b[0m\u001b[0;34m\u001b[0m\u001b[0;34m\u001b[0m\u001b[0m\n\u001b[0m\u001b[1;32m   1220\u001b[0m             \u001b[0;32mexcept\u001b[0m \u001b[0mException\u001b[0m\u001b[0;34m:\u001b[0m\u001b[0;34m\u001b[0m\u001b[0;34m\u001b[0m\u001b[0m\n\u001b[1;32m   1221\u001b[0m                 \u001b[0mself\u001b[0m\u001b[0;34m.\u001b[0m\u001b[0mlog\u001b[0m\u001b[0;34m.\u001b[0m\u001b[0mwarning\u001b[0m\u001b[0;34m(\u001b[0m\u001b[0;34m\"Invalid Message:\"\u001b[0m\u001b[0;34m,\u001b[0m \u001b[0mexc_info\u001b[0m\u001b[0;34m=\u001b[0m\u001b[0;32mTrue\u001b[0m\u001b[0;34m)\u001b[0m\u001b[0;34m\u001b[0m\u001b[0;34m\u001b[0m\u001b[0m\n",
            "\u001b[0;31mKeyboardInterrupt\u001b[0m: Interrupted by user"
          ]
        }
      ]
    },
    {
      "cell_type": "markdown",
      "source": [
        "**8. What is the purpose of the with statement when handling files in Python**"
      ],
      "metadata": {
        "id": "kiPbaxf7Afbx"
      }
    },
    {
      "cell_type": "markdown",
      "metadata": {
        "id": "887fcc54"
      },
      "source": [
        "The `with` statement in Python is primarily used for resource management, particularly when dealing with operations that require setup and teardown steps, such as working with files. Its main purpose is to ensure that resources are properly acquired and released, even if errors occur.\n",
        "\n",
        "When handling files, the `with` statement ensures that the file is automatically closed after the block of code within the `with` statement is executed, regardless of whether the operations within the block were successful or if an exception was raised.\n",
        "\n",
        "**Here's why it's significant:**\n",
        "\n",
        "*   **Guaranteed Resource Release:** The `with` statement guarantees that the file's `close()` method is called automatically when the block is exited. This prevents resource leaks, which can happen if you forget to close a file manually, especially if an error occurs before the `close()` call is reached.\n",
        "*   **Cleaner Code:** It makes your code cleaner and more readable by abstracting away the explicit `try...finally` blocks that would otherwise be needed to ensure the file is closed.\n",
        "*   **Reduced Boilerplate:** You don't need to write separate `open()` and `close()` calls, or handle potential exceptions around the closing of the file.\n",
        "\n",
        "**How it works:**\n",
        "\n",
        "The `with` statement works with objects that support the context management protocol. This protocol requires objects to have `__enter__()` and `__exit__()` methods.\n",
        "\n",
        "*   The `__enter__()` method is called at the beginning of the `with` block. It typically returns the resource to be used (in the case of files, the file object).\n",
        "*   The `__exit__()` method is called when the `with` block is exited (either normally or due to an exception). This method is responsible for cleaning up the resource (e.g., closing the file).\n",
        "\n",
        "**Example:**"
      ]
    },
    {
      "cell_type": "code",
      "metadata": {
        "colab": {
          "base_uri": "https://localhost:8080/"
        },
        "id": "7bde63b2",
        "outputId": "1bc5d234-2b82-4967-8706-d9df7cf6823c"
      },
      "source": [
        "# Create the file first\n",
        "with open('my_file.txt', 'w') as f:\n",
        "    f.write(\"This is a test file.\")\n",
        "\n",
        "# Now open and read the file\n",
        "file = open('my_file.txt', 'r')\n",
        "try:\n",
        "    content = file.read()\n",
        "    print(content) # Add a print statement to show the content\n",
        "finally:\n",
        "    file.close()"
      ],
      "execution_count": null,
      "outputs": [
        {
          "output_type": "stream",
          "name": "stdout",
          "text": [
            "This is a test file.\n"
          ]
        }
      ]
    },
    {
      "cell_type": "markdown",
      "source": [
        "**9. What is the difference between multithreading and multiprocessing**"
      ],
      "metadata": {
        "id": "34YAW4L3Axrt"
      }
    },
    {
      "cell_type": "markdown",
      "metadata": {
        "id": "90d36621"
      },
      "source": [
        "Multithreading and multiprocessing are two common approaches to achieve concurrency and parallelism in Python, allowing a program to perform multiple tasks seemingly at the same time. However, they differ fundamentally in how they achieve this.\n",
        "\n",
        "**Multithreading:**\n",
        "\n",
        "*   **Uses Threads:** Multithreading involves creating multiple threads within a single process. Threads are lighter-weight than processes and share the same memory space.\n",
        "*   **Concurrency, Not True Parallelism (due to GIL):** In Python, due to the Global Interpreter Lock (GIL), multithreading typically achieves *concurrency* rather than true *parallelism* for CPU-bound tasks. The GIL is a mutex that protects access to Python objects, preventing multiple native threads from executing Python bytecode at the same time. While threads can be useful for I/O-bound tasks (where the program spends time waiting for external resources), they won't significantly speed up CPU-bound computations on multi-core processors in CPython.\n",
        "*   **Shared Memory:** Threads within the same process share the same memory space, which makes communication and data sharing between threads easier but also requires careful handling of shared resources to avoid race conditions using locks.\n",
        "*   **Easier to Implement:** Generally, multithreading is simpler to implement compared to multiprocessing.\n",
        "\n",
        "**Multiprocessing:**\n",
        "\n",
        "*   **Uses Processes:** Multiprocessing involves creating multiple independent processes, each with its own separate memory space. Each process has its own Python interpreter and its own GIL.\n",
        "*   **True Parallelism:** Because each process has its own interpreter and GIL, multiprocessing can achieve true *parallelism* for CPU-bound tasks on multi-core processors, as each process can run on a different core simultaneously.\n",
        "*   **Separate Memory:** Processes have their own memory spaces, which avoids issues with shared memory and race conditions but makes communication between processes more complex (requiring mechanisms like pipes or queues).\n",
        "*   **More Overhead:** Creating and managing processes involves more overhead compared to threads due to the need to allocate separate memory spaces and resources for each process.\n",
        "\n",
        "**In Summary:**\n",
        "\n",
        "*   **Multithreading:** Best for I/O-bound tasks (network requests, file operations) where the program waits for external resources. Achieves concurrency (tasks appear to run in parallel). Limited by the GIL for CPU-bound tasks in CPython.\n",
        "*   **Multiprocessing:** Best for CPU-bound tasks (heavy computations) where you want to leverage multiple CPU cores for true parallelism. Each process has its own memory space and GIL. More overhead but can provide significant speedups for CPU-intensive workloads.\n",
        "\n",
        "Choosing between multithreading and multiprocessing depends on the nature of the task. For I/O-bound tasks, multithreading is usually sufficient and easier to implement. For CPU-bound tasks that can be divided into independent parts, multiprocessing is generally the better choice to take advantage of multiple cores."
      ]
    },
    {
      "cell_type": "markdown",
      "source": [
        "**10.What are the advantages of using logging in a program**"
      ],
      "metadata": {
        "id": "FQzMUp1ZA61f"
      }
    },
    {
      "cell_type": "markdown",
      "metadata": {
        "id": "37180eb2"
      },
      "source": [
        "**Advantages of using logging in a program:**\n",
        "\n",
        "*   **Debugging:** Logs provide a historical record of your program's execution, which is invaluable for identifying and understanding the root cause of errors and unexpected behavior. You can see the sequence of events leading up to an issue.\n",
        "*   **Monitoring:** In production environments, logging allows you to monitor the health and performance of your application. You can track resource usage, identify bottlenecks, and detect unusual activity.\n",
        "*   **Auditing:** Logs can serve as an audit trail, recording significant events, user actions, and system changes. This is crucial for security, compliance, and accountability.\n",
        "*   **Troubleshooting:** When issues arise, logs provide crucial context for troubleshooting. Instead of relying on guesswork or trying to reproduce the problem, you can examine the logs to understand what happened.\n",
        "*   **Separation of Concerns:** Logging separates the logic of your application from the process of reporting information about its execution. This keeps your core code cleaner and more focused on its primary task.\n",
        "*   **Configurability:** The Python `logging` module is highly configurable. You can control the level of detail logged, the output destination (console, file, network), the format of the log messages, and more. This flexibility allows you to tailor logging to your specific needs.\n",
        "*   **Standardization:** Using the built-in `logging` module provides a standardized way to log messages across your project or team. This makes it easier for developers to understand and work with logs generated by different parts of the application.\n",
        "*   **Post-mortem Analysis:** Even if your program crashes, logs can provide information about the state of the program just before the crash, aiding in post-mortem debugging."
      ]
    },
    {
      "cell_type": "markdown",
      "source": [
        "**11.What is memory management in Python**"
      ],
      "metadata": {
        "id": "pGa0rmuWxBbz"
      }
    },
    {
      "cell_type": "markdown",
      "metadata": {
        "id": "66883268"
      },
      "source": [
        "Memory management in Python is the process by which Python handles the allocation and deallocation of memory for objects. Unlike languages like C or C++, you don't typically need to manually allocate or free memory in Python. Python has a built-in memory manager that handles this automatically.\n",
        "\n",
        "Key aspects of memory management in Python include:\n",
        "\n",
        "*   **Heap:** Python uses a private heap to manage memory. All Python objects and data structures are located in this heap.\n",
        "*   **Allocation:** When you create an object (e.g., a variable, a list, a dictionary), Python's memory manager allocates a block of memory from the heap to store that object.\n",
        "*   **Garbage Collection:** This is the automatic process of reclaiming memory occupied by objects that are no longer needed. Python's garbage collector identifies objects that are no longer reachable by your program and frees up the memory they were using.\n",
        "*   **Reference Counting:** Python primarily uses reference counting as its garbage collection mechanism. Each object has a reference count, which is the number of variables or other objects that are referencing it. When the reference count of an object drops to zero, it means the object is no longer accessible, and its memory can be reclaimed.\n",
        "*   **Generational Garbage Collection:** Python also has a generational garbage collector that helps to deal with circular references (where objects refer to each other in a cycle, preventing their reference counts from dropping to zero). This collector periodically scans for such cycles and reclaims the memory occupied by unreachable objects within those cycles.\n",
        "*   **Memory Pools:** For smaller objects, Python uses memory pools to speed up memory allocation and deallocation. This avoids the overhead of requesting memory directly from the operating system for every small object.\n",
        "\n",
        "In summary, Python's memory management is largely automatic, relying on reference counting and a generational garbage collector to efficiently allocate and free memory. This allows developers to focus on writing code without having to worry about manual memory management, reducing the risk of memory leaks and other related errors."
      ]
    },
    {
      "cell_type": "markdown",
      "source": [
        "**12.What are the basic steps involved in exception handling in Python**"
      ],
      "metadata": {
        "id": "KkfA819dxc2K"
      }
    },
    {
      "cell_type": "markdown",
      "metadata": {
        "id": "66365946"
      },
      "source": [
        "The basic steps involved in exception handling in Python are:\n",
        "\n",
        "1.  **Identify the potentially problematic code:** Place the code that might raise an exception inside a `try` block.\n",
        "2.  **Catch the exception:** Use one or more `except` blocks to specify how to handle different types of exceptions that might occur in the `try` block.\n",
        "3.  **(Optional) Handle successful execution:** Use the `else` block to include code that should run only if no exception occurred in the `try` block.\n",
        "4.  **(Optional) Ensure cleanup:** Use the `finally` block to include code that should always run, regardless of whether an exception occurred or not. This is often used for cleaning up resources.\n",
        "\n",
        "Here's a simple structure:"
      ]
    },
    {
      "cell_type": "markdown",
      "source": [
        "**13.Why is memory management important in Python**"
      ],
      "metadata": {
        "id": "BAARba6k3OXK"
      }
    },
    {
      "cell_type": "markdown",
      "metadata": {
        "id": "75b8ce80"
      },
      "source": [
        "Memory management is important in Python for several key reasons:\n",
        "\n",
        "*   **Efficiency:** Efficient memory management ensures that your program uses memory resources effectively. This is crucial for performance, especially when dealing with large datasets or complex applications. Poor memory management can lead to excessive memory consumption and slow down your program.\n",
        "*   **Preventing Memory Leaks:** A memory leak occurs when a program fails to release memory that is no longer needed. Over time, memory leaks can cause your program to consume more and more memory, potentially leading to performance degradation or even crashing the program. Python's automatic memory management, primarily through garbage collection, helps to prevent these leaks.\n",
        "*   **Resource Management:** While Python handles most memory allocation and deallocation automatically, some resources (like file handles, network connections, or database connections) still need to be properly managed and released. Understanding how Python's memory management works helps you to ensure that these resources are freed when they are no longer required, preventing resource exhaustion.\n",
        "*   **Program Stability:** Effective memory management contributes to the overall stability of your program. When memory is managed correctly, you reduce the risk of errors like segmentation faults or other memory-related crashes.\n",
        "*   **Developer Productivity:** One of the major advantages of Python's automatic memory management is that it frees developers from the burden of manual memory handling. This allows you to focus on the logic of your application rather than spending time on intricate memory allocation and deallocation details, leading to increased productivity.\n",
        "\n",
        "In essence, while Python handles much of the complexity of memory management for you, understanding its importance and how it works is vital for writing efficient, stable, and resource-conscious programs."
      ]
    },
    {
      "cell_type": "markdown",
      "source": [
        "**14.F What is the role of try and except in exception handling**"
      ],
      "metadata": {
        "id": "QqfjxsFR3JN8"
      }
    },
    {
      "cell_type": "markdown",
      "metadata": {
        "id": "843ddc74"
      },
      "source": [
        "In Python's exception handling mechanism:\n",
        "\n",
        "*   The **`try`** block contains the code that you suspect might raise an exception. It's the block of code that Python will monitor for errors. If an exception occurs within the `try` block, the normal flow of execution is interrupted, and Python looks for a matching `except` block.\n",
        "\n",
        "*   The **`except`** block is where you define how to handle specific exceptions that might occur in the preceding `try` block. If an exception is raised in the `try` block, Python checks the `except` blocks to see if the type of exception matches any of the specified exception types. If a match is found, the code within that `except` block is executed. You can have multiple `except` blocks to handle different types of exceptions."
      ]
    },
    {
      "cell_type": "markdown",
      "source": [
        "**15. How does Python's garbage collection system work**"
      ],
      "metadata": {
        "id": "r2R10Lim3hpJ"
      }
    },
    {
      "cell_type": "markdown",
      "metadata": {
        "id": "a2cb7570"
      },
      "source": [
        "Python's garbage collection system automatically reclaims memory occupied by objects that are no longer in use. It primarily relies on two mechanisms:\n",
        "\n",
        "1.  **Reference Counting:** This is the primary and most straightforward mechanism. Each object in Python has a reference count, which keeps track of the number of references pointing to that object. When the reference count of an object drops to zero, it means there are no longer any variables or other objects referencing it, and the memory it occupies can be immediately deallocated.\n",
        "\n",
        "    For example, when you assign an object to a variable, the object's reference count increases. When a variable goes out of scope or is reassigned, the reference count of the object it was previously referencing decreases.\n",
        "\n",
        "2.  **Generational Garbage Collection (for cyclic references):** Reference counting alone cannot handle circular references, where two or more objects reference each other, forming a cycle, even if they are no longer reachable from the rest of the program. To address this, Python has a generational garbage collector.\n",
        "\n",
        "    The generational collector divides objects into different \"generations\" based on how long they have been alive. Newly created objects are in the youngest generation. Objects that survive a garbage collection pass are moved to older generations. The idea is that most objects are short-lived, so it's more efficient to focus garbage collection efforts on the younger generations.\n",
        "\n",
        "    The generational collector periodically scans for cycles among objects that are no longer reachable from the root set (objects that are directly accessible by the program). When it finds such cycles, it breaks the references within the cycle and deallocates the memory.\n",
        "\n",
        "In summary, Python's garbage collection combines the efficiency of reference counting for most objects with a generational collector to handle the more complex case of circular references, ensuring that memory is managed automatically and effectively."
      ]
    },
    {
      "cell_type": "markdown",
      "source": [
        "**16.What is the purpose of the else block in exception handling**"
      ],
      "metadata": {
        "id": "Ct4aoy7r3qzv"
      }
    },
    {
      "cell_type": "markdown",
      "metadata": {
        "id": "92b336b1"
      },
      "source": [
        "In Python's exception handling, the `else` block is an optional part of the `try...except` structure.\n",
        "\n",
        "*   The code within the **`else`** block is executed *only if* the code in the preceding `try` block runs without raising any exceptions.\n",
        "\n",
        "This can be useful for placing code that should only be executed when the \"risky\" operations within the `try` block have completed successfully. It helps to separate the code that might raise an exception from the code that depends on the successful execution of the `try` block."
      ]
    },
    {
      "cell_type": "markdown",
      "source": [
        "**17.What are the common logging levels in Python**"
      ],
      "metadata": {
        "id": "cLYoaAVx31FZ"
      }
    },
    {
      "cell_type": "markdown",
      "metadata": {
        "id": "600a1695"
      },
      "source": [
        "The Python `logging` module provides several standard logging levels to categorize messages based on their severity. These levels help you filter and control the amount of information that is logged. The common logging levels, in increasing order of severity, are:\n",
        "\n",
        "*   **`DEBUG`:** Detailed information, typically only of interest when diagnosing problems. This level is used for fine-grained information about the program's execution.\n",
        "*   **`INFO`:** Confirmation that things are working as expected. This level is used to record routine events and status updates.\n",
        "*   **`WARNING`:** An indication that something unexpected happened, or indicative of some problem in the near future (e.g. 'disk space low'). The software is still working as expected. This level is used for potentially harmful situations that don't necessarily cause an error but warrant attention.\n",
        "*   **`ERROR`:** Due to a more serious problem, the software has not been able to perform some function. This level is used to indicate errors that prevent a specific operation from completing.\n",
        "*   **`CRITICAL`:** A serious error, indicating that the program itself may be unable to continue running. This level is used for severe errors that may lead to the program's termination.\n",
        "\n",
        "You can set a logging level for your application, and only messages with a severity level equal to or higher than the configured level will be processed. This allows you to easily control the verbosity of your logs."
      ]
    },
    {
      "cell_type": "markdown",
      "source": [
        "**18.What is the difference between os.fork() and multiprocessing in Python**"
      ],
      "metadata": {
        "id": "3SXSUKT73-Qw"
      }
    },
    {
      "cell_type": "markdown",
      "metadata": {
        "id": "768b5b7f"
      },
      "source": [
        "The difference between `os.fork()` and the `multiprocessing` module in Python lies in their level of abstraction and how they are typically used. Here's a breakdown:\n",
        "\n",
        "**`os.fork()`**\n",
        "\n",
        "*   **Lower-level:** `os.fork()` is a lower-level system call available on Unix-like systems (Linux, macOS, etc.). It creates a new process by duplicating the current process. The child process is an exact copy of the parent process at the time of the `fork` call.\n",
        "*   **System-dependent:** It is not available on all operating systems (e.g., Windows).\n",
        "*   **Complexity:** Working directly with `os.fork()` can be more complex as you need to manage inter-process communication, synchronization, and resource sharing manually.\n",
        "*   **Limited features:** `os.fork()` itself only creates the new process. You would typically need to combine it with other system calls (like `os.exec*`) to run different code in the child process.\n",
        "\n",
        "**`multiprocessing` module**\n",
        "\n",
        "*   **Higher-level:** The `multiprocessing` module is a higher-level, cross-platform library in Python that provides an API for creating and managing processes. It abstracts away many of the complexities of using `os.fork()` directly.\n",
        "*   **Cross-platform:** It works on various operating systems, including Windows, by using different underlying mechanisms (like spawning new processes).\n",
        "*   **Easier to use:** The module provides classes and functions (like `Process`, `Pool`, `Queue`, `Pipe`) that simplify creating processes, sharing data between them, and coordinating their execution.\n",
        "*   **Rich features:** It offers features for communication (queues, pipes), synchronization (locks, semaphores), and managing pools of worker processes.\n",
        "\n",
        "**Key Differences:**\n",
        "\n",
        "*   **Abstraction Level:** `multiprocessing` is a high-level abstraction built on top of process creation mechanisms (which might use `os.fork()` on Unix-like systems). `os.fork()` is a low-level system call.\n",
        "*   **Cross-Platform Support:** `multiprocessing` is designed to be cross-platform, while `os.fork()` is Unix-specific.\n",
        "*   **Ease of Use:** `multiprocessing` provides a more convenient and Pythonic way to work with processes, offering built-in tools for communication and synchronization. `os.fork()` requires more manual management.\n",
        "*   **Purpose:** `os.fork()` is a basic process creation mechanism. The `multiprocessing` module is a comprehensive library for parallel programming using processes in Python.\n",
        "\n",
        "In general, for most Python applications requiring multiprocessing, the `multiprocessing` module is the preferred approach due to its higher level of abstraction, cross-platform compatibility, and ease of use. `os.fork()` is typically used in more specialized scenarios or when interacting directly with low-level system calls is necessary."
      ]
    },
    {
      "cell_type": "markdown",
      "source": [
        "**19.What is the importance of closing a file in Python**"
      ],
      "metadata": {
        "id": "3o7c4_Do4HOV"
      }
    },
    {
      "cell_type": "markdown",
      "metadata": {
        "id": "8f6f52b1"
      },
      "source": [
        "Closing a file in Python is important for several reasons:\n",
        "\n",
        "*   **Resource Management:** When you open a file, the operating system allocates resources (like memory buffers and file descriptors) to manage that file. If you don't close the file, these resources remain allocated even after your program has finished using the file. Over time, this can lead to resource exhaustion, especially if your program opens many files without closing them.\n",
        "*   **Data Integrity:** When you write to a file, the data is often initially written to a buffer in memory. The data is only guaranteed to be written to the physical file on disk when the buffer is flushed, which happens automatically when the file is closed. If your program terminates unexpectedly before the file is closed, you might lose some of the data you intended to write.\n",
        "*   **Preventing Corruption:** Leaving files open unnecessarily can sometimes lead to file corruption, especially in complex scenarios involving multiple processes or threads accessing the same file. Closing the file ensures that the operating system can properly manage access to the file.\n",
        "*   **Operating System Limits:** Operating systems have limits on the number of files a single process can have open simultaneously. If your program exceeds this limit by not closing files, it can lead to errors and prevent your program from opening new files.\n",
        "*   **Releasing Locks:** If the file is locked for exclusive access by your program, closing the file releases the lock, allowing other programs or processes to access the file.\n",
        "\n",
        "Using the `with` statement when working with files is the recommended approach in Python because it automatically ensures that the file is closed, even if errors occur. This helps to prevent resource leaks and ensures data integrity."
      ]
    },
    {
      "cell_type": "markdown",
      "source": [
        "**20.What is the difference between file.read() and file.readline() in Python**"
      ],
      "metadata": {
        "id": "lyB_uitJ4P0R"
      }
    },
    {
      "cell_type": "markdown",
      "metadata": {
        "id": "9e47b368"
      },
      "source": [
        "In Python, when you are working with files, `file.read()` and `file.readline()` are two methods used to read content from a file object, but they operate differently:\n",
        "\n",
        "*   **`file.read(size)`:**\n",
        "    *   Reads the entire content of the file as a single string if `size` is not specified.\n",
        "    *   If `size` is specified, it reads at most `size` bytes (or characters in text mode) from the file.\n",
        "    *   After calling `read()`, the file pointer is moved to the end of the file (or after the `size` bytes that were read).\n",
        "    *   Returns an empty string (`''`) if the end of the file has been reached.\n",
        "\n",
        "*   **`file.readline(size)`:**\n",
        "    *   Reads a single line from the file, including the newline character (`\\n`) at the end of the line.\n",
        "    *   If `size` is specified, it reads at most `size` bytes/characters, but it will not read beyond the end of the current line.\n",
        "    *   After calling `readline()`, the file pointer is moved to the beginning of the next line.\n",
        "    *   Returns an empty string (`''`) if the end of the file is reached and the last line did not end with a newline character.\n",
        "\n",
        "**In summary:**\n",
        "\n",
        "*   Use `file.read()` when you want to read the entire file content at once or a specific number of bytes/characters.\n",
        "*   Use `file.readline()` when you want to read the file line by line."
      ]
    },
    {
      "cell_type": "markdown",
      "source": [
        "**21. What is the logging module in Python used for**"
      ],
      "metadata": {
        "id": "Tc3Nie1l4csn"
      }
    },
    {
      "cell_type": "markdown",
      "source": [
        "Logging in Python is a powerful built-in module that provides a standardized way to track events that happen while your program is running. These events can be anything from simple informational messages to critical errors.\n",
        "\n",
        "**Why is logging important?**\n",
        "\n",
        "*   **Debugging:** Logs provide valuable information about the state of your program at different points during execution, making it much easier to identify and fix bugs.\n",
        "*   **Monitoring:** You can use logs to monitor the behavior of your application in production, tracking performance, resource usage, and potential issues.\n",
        "*   **Auditing:** Logs can serve as an audit trail, recording important actions and events for security and compliance purposes.\n",
        "*   **Separation of Concerns:** Logging allows you to separate the logic of your program from the task of reporting events.\n",
        "\n",
        "**How to use the `logging` module:**\n",
        "\n",
        "The `logging` module provides different levels of severity for messages:\n",
        "\n",
        "*   **`DEBUG`:** Detailed information, typically only of interest when diagnosing problems.\n",
        "*   **`INFO`:** Confirmation that things are working as expected.\n",
        "*   **`WARNING`:** An indication that something unexpected happened, or indicative of some problem in the near future (e.g. 'disk space low'). The software is still working as expected.\n",
        "*   **`ERROR`:** Due to a more serious problem, the software has not been able to perform some function.\n",
        "*   **`CRITICAL`:** A serious error, indicating that the program itself may be unable to continue running.\n",
        "\n",
        "You can log messages at different levels using functions like `logging.debug()`, `logging.info()`, `logging.warning()`, `logging.error()`, and `logging.critical()`.\n",
        "\n",
        "By default, logging messages are sent to the console. However, you can configure logging to write messages to a file, send them to a network server, or even send them in an email.\n",
        "\n",
        "Here's a simple example:"
      ],
      "metadata": {
        "id": "voCdJGAM47Gj"
      }
    },
    {
      "cell_type": "markdown",
      "source": [
        "**22.What is the os module in Python used for in file handling**"
      ],
      "metadata": {
        "id": "fTu9u8eP4_3N"
      }
    },
    {
      "cell_type": "markdown",
      "metadata": {
        "id": "3a03ec9f"
      },
      "source": [
        "The `os` module in Python provides a way to interact with the operating system, and it's very useful for various file and directory operations that go beyond just reading and writing file content. Here's how it's used in file handling:\n",
        "\n",
        "*   **Interacting with the File System:** The `os` module allows you to perform operations like:\n",
        "    *   **Checking for existence:** `os.path.exists(path)` checks if a file or directory exists.\n",
        "    *   **Getting file/directory information:** `os.stat(path)` returns information about a file or directory (size, modification time, etc.).\n",
        "    *   **Changing permissions:** `os.chmod(path, mode)` changes the permissions of a file.\n",
        "    *   **Renaming files/directories:** `os.rename(src, dst)` renames a file or directory.\n",
        "    *   **Removing files/directories:** `os.remove(path)` removes a file, and `os.rmdir(path)` removes an empty directory. `os.makedirs(path)` creates directories recursively.\n",
        "*   **Working with Paths:** The `os.path` submodule is particularly useful for manipulating file paths in a way that is compatible with the underlying operating system. This includes functions for:\n",
        "    *   **Joining paths:** `os.path.join(path, *paths)` joins path components intelligently.\n",
        "    *   **Getting the base name or directory name:** `os.path.basename(path)` and `os.path.dirname(path)`.\n",
        "    *   **Splitting paths:** `os.path.split(path)` splits a path into a (head, tail) pair.\n",
        "    *   **Checking if a path is a file or directory:** `os.path.isfile(path)` and `os.path.isdir(path)`.\n",
        "*   **Changing the Current Directory:** `os.chdir(path)` changes the current working directory.\n",
        "*   **Listing Directory Contents:** `os.listdir(path)` returns a list of entries in a directory.\n",
        "\n",
        "While the built-in `open()` function is used for reading and writing file content, the `os` module provides the necessary tools for interacting with the file system itself and managing files and directories at a higher level. It's essential for tasks like creating directories, checking file properties, or navigating the file system."
      ]
    },
    {
      "cell_type": "markdown",
      "source": [
        "**23.What are the challenges associated with memory management in Python**"
      ],
      "metadata": {
        "id": "g2_clP7q5KNZ"
      }
    },
    {
      "cell_type": "markdown",
      "metadata": {
        "id": "30228b8e"
      },
      "source": [
        "While Python's automatic memory management is a great convenience, there are still some challenges associated with it:\n",
        "\n",
        "*   **Unpredictable Garbage Collection Timing:** You don't have fine-grained control over when the garbage collector runs. This can make it difficult to predict exactly when memory will be reclaimed, which might be an issue in applications with strict real-time requirements or limited memory.\n",
        "*   **Circular References:** Although the generational garbage collector helps, circular references can still occasionally lead to objects not being immediately collected, potentially causing temporary memory usage to be higher than expected. While less common with modern Python versions and the generational collector, it's still a possibility to be aware of.\n",
        "*   **Memory Leaks (less frequent but possible):** While Python significantly reduces the likelihood of memory leaks compared to manual memory management, they can still occur in certain scenarios, such as when objects are held onto by global variables, long-lived data structures, or external resources that aren't properly closed.\n",
        "*   **Understanding Memory Usage:** Debugging memory-related issues can be challenging because you don't explicitly manage memory. You might need to use profiling tools to understand how your program is using memory and identify potential areas for optimization.\n",
        "*   **Overhead of Garbage Collection:** While garbage collection is necessary, the process itself has some overhead. In performance-critical applications, the time spent by the garbage collector can sometimes be a factor to consider.\n",
        "*   **Integration with External Libraries:** When working with external libraries, especially those written in other languages (like C or C++), you need to be mindful of how they manage memory and ensure proper interaction with Python's memory management to avoid issues.\n",
        "\n",
        "Despite these challenges, Python's memory management is generally very effective and significantly simplifies development for most applications. Understanding these potential challenges can help you write more robust and efficient Python code."
      ]
    },
    {
      "cell_type": "markdown",
      "source": [
        "**24.How do you raise an exception manually in Python**"
      ],
      "metadata": {
        "id": "6xWUxnnk5TOo"
      }
    },
    {
      "cell_type": "markdown",
      "metadata": {
        "id": "35537daf"
      },
      "source": [
        "In Python, you can raise an exception manually using the `raise` keyword. This is useful when a certain condition occurs in your code that you want to signal as an error. You can raise built-in exceptions or custom exceptions."
      ]
    },
    {
      "cell_type": "code",
      "metadata": {
        "colab": {
          "base_uri": "https://localhost:8080/"
        },
        "id": "45a48802",
        "outputId": "b10c4f51-1a8d-43b3-ceea-cd5f37539825"
      },
      "source": [
        "# Raising a built-in exception\n",
        "def divide(a, b):\n",
        "  if b == 0:\n",
        "    raise ZeroDivisionError(\"Cannot divide by zero\")\n",
        "  return a / b\n",
        "\n",
        "try:\n",
        "  result = divide(10, 0)\n",
        "except ZeroDivisionError as e:\n",
        "  print(f\"Error: {e}\")\n",
        "\n",
        "# Raising a custom exception\n",
        "class MyCustomError(Exception):\n",
        "  \"This is a custom exception\"\n",
        "  pass\n",
        "\n",
        "def check_value(value):\n",
        "  if value < 0:\n",
        "    raise MyCustomError(\"Value cannot be negative\")\n",
        "\n",
        "try:\n",
        "  check_value(-5)\n",
        "except MyCustomError as e:\n",
        "  print(f\"Custom error: {e}\")"
      ],
      "execution_count": null,
      "outputs": [
        {
          "output_type": "stream",
          "name": "stdout",
          "text": [
            "Error: Cannot divide by zero\n",
            "Custom error: Value cannot be negative\n"
          ]
        }
      ]
    },
    {
      "cell_type": "markdown",
      "source": [
        "**25.Why is it important to use multithreading in certain applications**"
      ],
      "metadata": {
        "id": "a5O8DbUn5yMk"
      }
    },
    {
      "cell_type": "markdown",
      "metadata": {
        "id": "cf4f463a"
      },
      "source": [
        "Multithreading can be important in certain applications for several reasons, primarily related to improving performance and responsiveness, especially when dealing with I/O-bound tasks:\n",
        "\n",
        "*   **Improved Responsiveness (UI Applications):** In applications with a graphical user interface (GUI), performing long-running tasks (like fetching data from the internet or processing a large file) in the main thread can cause the UI to freeze and become unresponsive. Using a separate thread for these tasks allows the main thread to continue handling user interactions, keeping the application responsive.\n",
        "*   **Handling Multiple Clients (Servers):** In server applications, multithreading can be used to handle multiple client requests concurrently. When a request comes in, a new thread can be created to process that request, allowing the server to accept new connections without waiting for the previous one to finish.\n",
        "*   **I/O-Bound Task Efficiency:** For tasks that involve waiting for external resources (like reading from a file, making a network request, or interacting with a database), threads can release the GIL (Global Interpreter Lock) while waiting. This allows other threads to run Python bytecode, making more efficient use of CPU time during these waiting periods.\n",
        "*   **Simplified Design for Concurrent Tasks:** For applications where tasks can be naturally broken down into independent units that can run concurrently, multithreading can simplify the program's design compared to other approaches.\n",
        "*   **Concurrency with Less Overhead than Multiprocessing:** While multiprocessing provides true parallelism for CPU-bound tasks, creating and managing processes has more overhead than creating and managing threads. For I/O-bound tasks, where true parallelism isn't blocked by the GIL, multithreading can be a more lightweight solution.\n",
        "\n",
        "It's important to remember the limitations of multithreading in CPython due to the GIL, especially for CPU-bound tasks. However, for applications that spend a significant amount of time waiting for I/O, multithreading remains a valuable technique for improving performance and responsiveness."
      ]
    },
    {
      "cell_type": "markdown",
      "source": [
        "# Practical Questions"
      ],
      "metadata": {
        "id": "ncKRP4NJ6Cho"
      }
    },
    {
      "cell_type": "markdown",
      "source": [
        "**1.How can you open a file for writing in Python and write a string to it**"
      ],
      "metadata": {
        "id": "s12-me-N6X19"
      }
    },
    {
      "cell_type": "markdown",
      "metadata": {
        "id": "52caa86a"
      },
      "source": [
        "To open a file for writing in Python and write a string to it, you can use the built-in `open()` function with the mode `'w'` (write mode). If the file already exists, this mode will truncate it (empty its contents). If the file does not exist, it will be created.\n",
        "\n",
        "You can then use the `write()` method of the file object to write a string to the file.\n",
        "\n",
        "It's highly recommended to use a `with` statement when working with files. The `with` statement ensures that the file is automatically closed after the block of code is executed, even if errors occur. This prevents resource leaks."
      ]
    },
    {
      "cell_type": "code",
      "metadata": {
        "colab": {
          "base_uri": "https://localhost:8080/"
        },
        "id": "a87ebb7a",
        "outputId": "e6403447-3f12-4e4e-a0c2-c56c7604e67d"
      },
      "source": [
        "# Using a with statement (recommended)\n",
        "file_path = 'my_output_file.txt'\n",
        "string_to_write = \"Hello, this is a string that will be written to the file.\"\n",
        "\n",
        "with open(file_path, 'w') as f:\n",
        "  f.write(string_to_write)\n",
        "\n",
        "print(f\"String successfully written to {file_path}\")\n",
        "\n",
        "# You can verify the content by reading the file (optional)\n",
        "with open(file_path, 'r') as f:\n",
        "  content = f.read()\n",
        "  print(\"\\nContent of the file:\")\n",
        "  print(content)"
      ],
      "execution_count": null,
      "outputs": [
        {
          "output_type": "stream",
          "name": "stdout",
          "text": [
            "String successfully written to my_output_file.txt\n",
            "\n",
            "Content of the file:\n",
            "Hello, this is a string that will be written to the file.\n"
          ]
        }
      ]
    },
    {
      "cell_type": "markdown",
      "source": [
        "**2.Write a Python program to read the contents of a file and print each line**"
      ],
      "metadata": {
        "id": "mwMuiFJn63j-"
      }
    },
    {
      "cell_type": "markdown",
      "metadata": {
        "id": "fdf37d17"
      },
      "source": [
        "Here is a Python program that reads the contents of a file line by line and prints each line. It uses a `with` statement to ensure the file is automatically closed."
      ]
    },
    {
      "cell_type": "code",
      "metadata": {
        "colab": {
          "base_uri": "https://localhost:8080/"
        },
        "id": "ba22b817",
        "outputId": "89733ca0-8102-4809-aa03-e39234209574"
      },
      "source": [
        "# First, let's create a sample file to read from (if it doesn't exist)\n",
        "file_path = 'my_sample_file.txt'\n",
        "sample_content = \"\"\"This is the first line.\n",
        "This is the second line.\n",
        "This is the third line.\"\"\"\n",
        "\n",
        "try:\n",
        "    with open(file_path, 'x') as f: # Use 'x' mode to create exclusively, fails if exists\n",
        "        f.write(sample_content)\n",
        "    print(f\"Created sample file: {file_path}\")\n",
        "except FileExistsError:\n",
        "    print(f\"Sample file already exists: {file_path}\")\n",
        "\n",
        "\n",
        "# Now, read the file line by line and print each line\n",
        "print(f\"\\nReading contents of {file_path} line by line:\")\n",
        "try:\n",
        "    with open(file_path, 'r') as f:\n",
        "        for line in f:\n",
        "            print(line.strip()) # Use strip() to remove leading/trailing whitespace (including newline)\n",
        "except FileNotFoundError:\n",
        "    print(f\"Error: The file '{file_path}' was not found.\")\n",
        "except Exception as e:\n",
        "    print(f\"An error occurred: {e}\")"
      ],
      "execution_count": null,
      "outputs": [
        {
          "output_type": "stream",
          "name": "stdout",
          "text": [
            "Created sample file: my_sample_file.txt\n",
            "\n",
            "Reading contents of my_sample_file.txt line by line:\n",
            "This is the first line.\n",
            "This is the second line.\n",
            "This is the third line.\n"
          ]
        }
      ]
    },
    {
      "cell_type": "markdown",
      "source": [
        "**3.How would you handle a case where the file doesn't exist while trying to open it for reading**"
      ],
      "metadata": {
        "id": "nQmkHJun7IfB"
      }
    },
    {
      "cell_type": "markdown",
      "metadata": {
        "id": "ba85d280"
      },
      "source": [
        "When you try to open a file for reading (`'r'` mode) that does not exist, Python will raise a `FileNotFoundError`. To handle this situation gracefully and prevent your program from crashing, you can use a `try...except FileNotFoundError` block."
      ]
    },
    {
      "cell_type": "code",
      "metadata": {
        "colab": {
          "base_uri": "https://localhost:8080/"
        },
        "id": "577c9e1d",
        "outputId": "850eafcf-8f30-404e-d326-77e826e2a8c3"
      },
      "source": [
        "file_path = 'non_existent_file.txt'\n",
        "\n",
        "try:\n",
        "    with open(file_path, 'r') as f:\n",
        "        content = f.read()\n",
        "        print(\"File content:\")\n",
        "        print(content)\n",
        "except FileNotFoundError:\n",
        "    print(f\"Error: The file '{file_path}' was not found.\")\n",
        "except Exception as e:\n",
        "    print(f\"An unexpected error occurred: {e}\")"
      ],
      "execution_count": null,
      "outputs": [
        {
          "output_type": "stream",
          "name": "stdout",
          "text": [
            "Error: The file 'non_existent_file.txt' was not found.\n"
          ]
        }
      ]
    },
    {
      "cell_type": "markdown",
      "source": [
        "**4.Write a Python script that reads from one file and writes its content to another file**"
      ],
      "metadata": {
        "id": "oE09PDKp7cws"
      }
    },
    {
      "cell_type": "markdown",
      "metadata": {
        "id": "d8387888"
      },
      "source": [
        "Here is a Python script that reads from one file and writes its content to another file. This is a common file handling task. We'll use `with` statements to ensure both files are properly opened and closed."
      ]
    },
    {
      "cell_type": "code",
      "metadata": {
        "colab": {
          "base_uri": "https://localhost:8080/"
        },
        "id": "42507d53",
        "outputId": "534edb41-202f-47cb-e079-5490cb27aad2"
      },
      "source": [
        "# First, let's create a sample input file\n",
        "input_file_path = 'input_file.txt'\n",
        "output_file_path = 'output_file.txt'\n",
        "sample_content = \"\"\"This is the content from the input file.\n",
        "It has multiple lines.\n",
        "We will copy this to the output file.\"\"\"\n",
        "\n",
        "try:\n",
        "    with open(input_file_path, 'w') as f:\n",
        "        f.write(sample_content)\n",
        "    print(f\"Created sample input file: {input_file_path}\")\n",
        "except Exception as e:\n",
        "    print(f\"Error creating input file: {e}\")\n",
        "\n",
        "# Now, read from the input file and write to the output file\n",
        "print(f\"\\nReading from '{input_file_path}' and writing to '{output_file_path}'...\")\n",
        "try:\n",
        "    # Open the input file for reading ('r')\n",
        "    with open(input_file_path, 'r') as infile:\n",
        "        # Open the output file for writing ('w'). This will create the file if it doesn't exist\n",
        "        # or truncate it if it does.\n",
        "        with open(output_file_path, 'w') as outfile:\n",
        "            # Read the entire content of the input file\n",
        "            content = infile.read()\n",
        "            # Write the content to the output file\n",
        "            outfile.write(content)\n",
        "\n",
        "    print(\"Content successfully copied.\")\n",
        "\n",
        "except FileNotFoundError:\n",
        "    print(f\"Error: The input file '{input_file_path}' was not found.\")\n",
        "except Exception as e:\n",
        "    print(f\"An error occurred: {e}\")\n",
        "\n",
        "# Optional: Verify the content of the output file\n",
        "print(f\"\\nContent of the output file '{output_file_path}':\")\n",
        "try:\n",
        "    with open(output_file_path, 'r') as f:\n",
        "        output_content = f.read()\n",
        "        print(output_content)\n",
        "except FileNotFoundError:\n",
        "    print(f\"Error: The output file '{output_file_path}' was not found.\")\n",
        "except Exception as e:\n",
        "    print(f\"An error occurred: {e}\")"
      ],
      "execution_count": null,
      "outputs": [
        {
          "output_type": "stream",
          "name": "stdout",
          "text": [
            "Created sample input file: input_file.txt\n",
            "\n",
            "Reading from 'input_file.txt' and writing to 'output_file.txt'...\n",
            "Content successfully copied.\n",
            "\n",
            "Content of the output file 'output_file.txt':\n",
            "This is the content from the input file.\n",
            "It has multiple lines.\n",
            "We will copy this to the output file.\n"
          ]
        }
      ]
    },
    {
      "cell_type": "markdown",
      "source": [
        "**5. How would you catch and handle division by zero error in Python**"
      ],
      "metadata": {
        "id": "qUvlNEGJ7ocw"
      }
    },
    {
      "cell_type": "markdown",
      "metadata": {
        "id": "6ac565f2"
      },
      "source": [
        "To catch and handle a `ZeroDivisionError` in Python, you can place the potentially problematic code (the division) inside a `try` block and then include an `except ZeroDivisionError` block to handle that specific exception."
      ]
    },
    {
      "cell_type": "code",
      "metadata": {
        "colab": {
          "base_uri": "https://localhost:8080/"
        },
        "id": "29594a51",
        "outputId": "70367d58-447a-4bd9-d52c-e2a4d421039d"
      },
      "source": [
        "def safe_division(a, b):\n",
        "  try:\n",
        "    result = a / b\n",
        "    print(f\"The result of the division is: {result}\")\n",
        "  except ZeroDivisionError:\n",
        "    print(\"Error: Cannot divide by zero!\")\n",
        "  except Exception as e:\n",
        "    print(f\"An unexpected error occurred: {e}\")\n",
        "\n",
        "# Test cases\n",
        "safe_division(10, 2)\n",
        "safe_division(10, 0)\n",
        "safe_division(5, 3)"
      ],
      "execution_count": null,
      "outputs": [
        {
          "output_type": "stream",
          "name": "stdout",
          "text": [
            "The result of the division is: 5.0\n",
            "Error: Cannot divide by zero!\n",
            "The result of the division is: 1.6666666666666667\n"
          ]
        }
      ]
    },
    {
      "cell_type": "markdown",
      "source": [
        "**6.Write a Python program that logs an error message to a log file when a division by zero exception occurs**"
      ],
      "metadata": {
        "id": "gZoCyv9v7x6e"
      }
    },
    {
      "cell_type": "markdown",
      "metadata": {
        "id": "2d4c47e6"
      },
      "source": [
        "Here is a Python program that logs an error message to a log file when a division by zero exception occurs. This program demonstrates how to combine exception handling with the `logging` module to record errors."
      ]
    },
    {
      "cell_type": "code",
      "metadata": {
        "colab": {
          "base_uri": "https://localhost:8080/"
        },
        "id": "450bc20c",
        "outputId": "1603a164-d9f4-42ee-f2e2-f7d49ce61586"
      },
      "source": [
        "import logging\n",
        "\n",
        "# Configure logging to write to a file\n",
        "log_file = 'division_errors.log'\n",
        "logging.basicConfig(filename=log_file, level=logging.ERROR, format='%(asctime)s - %(levelname)s - %(message)s')\n",
        "\n",
        "def safe_division_with_logging(a, b):\n",
        "  try:\n",
        "    result = a / b\n",
        "    print(f\"The result of the division is: {result}\")\n",
        "    logging.info(f\"Division successful: {a} / {b} = {result}\")\n",
        "  except ZeroDivisionError:\n",
        "    error_message = \"Error: Cannot divide by zero!\"\n",
        "    print(error_message)\n",
        "    logging.error(error_message)\n",
        "  except Exception as e:\n",
        "    error_message = f\"An unexpected error occurred: {e}\"\n",
        "    print(error_message)\n",
        "    logging.error(error_message)\n",
        "\n",
        "# Test cases\n",
        "safe_division_with_logging(10, 2)\n",
        "safe_division_with_logging(10, 0)\n",
        "safe_division_with_logging(5, 3)\n",
        "\n",
        "print(f\"\\nCheck the log file '{log_file}' for error messages.\")\n",
        "\n",
        "# Optional: Read and print the content of the log file\n",
        "try:\n",
        "    with open(log_file, 'r') as f:\n",
        "        log_content = f.read()\n",
        "        print(f\"\\nContent of '{log_file}':\")\n",
        "        print(log_content)\n",
        "except FileNotFoundError:\n",
        "    print(f\"Log file '{log_file}' not found yet.\")"
      ],
      "execution_count": null,
      "outputs": [
        {
          "output_type": "stream",
          "name": "stderr",
          "text": [
            "ERROR:root:Error: Cannot divide by zero!\n"
          ]
        },
        {
          "output_type": "stream",
          "name": "stdout",
          "text": [
            "The result of the division is: 5.0\n",
            "Error: Cannot divide by zero!\n",
            "The result of the division is: 1.6666666666666667\n",
            "\n",
            "Check the log file 'division_errors.log' for error messages.\n",
            "Log file 'division_errors.log' not found yet.\n"
          ]
        }
      ]
    },
    {
      "cell_type": "markdown",
      "source": [
        "**7. How do you log information at different levels (INFO, ERROR, WARNING) in Python using the logging module**"
      ],
      "metadata": {
        "id": "I8sLMT5B7_hX"
      }
    },
    {
      "cell_type": "markdown",
      "metadata": {
        "id": "0dd1338a"
      },
      "source": [
        "You can log information at different levels in Python using the `logging` module. The common logging levels, in increasing order of severity, are `DEBUG`, `INFO`, `WARNING`, `ERROR`, and `CRITICAL`. You can use functions like `logging.info()`, `logging.error()`, and `logging.warning()` to log messages at these specific levels."
      ]
    },
    {
      "cell_type": "code",
      "metadata": {
        "colab": {
          "base_uri": "https://localhost:8080/"
        },
        "id": "02d43dbe",
        "outputId": "a1026938-78eb-43d0-b7b3-c8746fc8dd03"
      },
      "source": [
        "import logging\n",
        "\n",
        "# By default, logging level is WARNING, so INFO and DEBUG won't be shown.\n",
        "# To see all levels, set the level to DEBUG.\n",
        "# logging.basicConfig(level=logging.DEBUG)\n",
        "\n",
        "logging.debug(\"This is a debug message - usually detailed info.\")\n",
        "logging.info(\"This is an info message - confirming things are working.\")\n",
        "logging.warning(\"This is a warning message - something unexpected happened.\")\n",
        "logging.error(\"This is an error message - a function failed.\")\n",
        "logging.critical(\"This is a critical message - program might be unable to continue.\")"
      ],
      "execution_count": null,
      "outputs": [
        {
          "output_type": "stream",
          "name": "stderr",
          "text": [
            "WARNING:root:This is a warning message - something unexpected happened.\n",
            "ERROR:root:This is an error message - a function failed.\n",
            "CRITICAL:root:This is a critical message - program might be unable to continue.\n"
          ]
        }
      ]
    },
    {
      "cell_type": "markdown",
      "source": [
        "**8.Write a program to handle a file opening error using exception handling**"
      ],
      "metadata": {
        "id": "vd7-tjtcZLxd"
      }
    },
    {
      "cell_type": "code",
      "metadata": {
        "colab": {
          "base_uri": "https://localhost:8080/"
        },
        "id": "839b401f",
        "outputId": "c3004f3b-95aa-4f7e-9d29-de7e42ecc30d"
      },
      "source": [
        "def open_file_safely(filename):\n",
        "  \"\"\"Attempts to open a file and handles FileNotFoundError.\"\"\"\n",
        "  try:\n",
        "    with open(filename, 'r') as f:\n",
        "      print(f\"Successfully opened '{filename}'\")\n",
        "      content = f.read()\n",
        "      print(\"File content:\")\n",
        "      print(content)\n",
        "  except FileNotFoundError:\n",
        "    print(f\"Error: The file '{filename}' was not found.\")\n",
        "  except Exception as e:\n",
        "    print(f\"An unexpected error occurred: {e}\")\n",
        "\n",
        "# Test cases\n",
        "print(\"Attempting to open an existing file:\")\n",
        "# Create a dummy file first\n",
        "with open(\"existing_file.txt\", \"w\") as f:\n",
        "  f.write(\"This file exists.\")\n",
        "open_file_safely(\"existing_file.txt\")\n",
        "\n",
        "print(\"\\nAttempting to open a non-existent file:\")\n",
        "open_file_safely(\"non_existent_file.txt\")"
      ],
      "execution_count": 1,
      "outputs": [
        {
          "output_type": "stream",
          "name": "stdout",
          "text": [
            "Attempting to open an existing file:\n",
            "Successfully opened 'existing_file.txt'\n",
            "File content:\n",
            "This file exists.\n",
            "\n",
            "Attempting to open a non-existent file:\n",
            "Error: The file 'non_existent_file.txt' was not found.\n"
          ]
        }
      ]
    },
    {
      "cell_type": "markdown",
      "source": [
        "**9.How can you read a file line by line and store its content in a list in Python**"
      ],
      "metadata": {
        "id": "3yymnupEZWHJ"
      }
    },
    {
      "cell_type": "code",
      "metadata": {
        "colab": {
          "base_uri": "https://localhost:8080/"
        },
        "id": "3695d5b5",
        "outputId": "fd6927b3-79ca-4e34-8a0c-cf880ff0d821"
      },
      "source": [
        "def read_file_to_list(filename):\n",
        "  \"\"\"Reads a file line by line and returns a list of lines.\"\"\"\n",
        "  lines = []\n",
        "  try:\n",
        "    with open(filename, 'r') as f:\n",
        "      for line in f:\n",
        "        lines.append(line.strip()) # Use strip() to remove leading/trailing whitespace (including newline)\n",
        "  except FileNotFoundError:\n",
        "    print(f\"Error: The file '{filename}' was not found.\")\n",
        "    return None # Return None or an empty list to indicate failure\n",
        "  except Exception as e:\n",
        "    print(f\"An unexpected error occurred: {e}\")\n",
        "    return None\n",
        "\n",
        "# Create a sample file for testing\n",
        "sample_file_path = 'sample_list_file.txt'\n",
        "sample_content = \"\"\"Line 1\n",
        "Line 2\n",
        "Line 3\n",
        "Line 4\"\"\"\n",
        "\n",
        "try:\n",
        "    with open(sample_file_path, 'w') as f:\n",
        "        f.write(sample_content)\n",
        "    print(f\"Created sample file: {sample_file_path}\")\n",
        "except Exception as e:\n",
        "    print(f\"Error creating sample file: {e}\")\n",
        "\n",
        "\n",
        "# Read the file into a list\n",
        "file_content_list = read_file_to_list(sample_file_path)\n",
        "\n",
        "# Print the list\n",
        "if file_content_list is not None:\n",
        "  print(f\"\\nContent of '{sample_file_path}' stored in a list:\")\n",
        "  print(file_content_list)\n",
        "\n",
        "# Test with a non-existent file\n",
        "print(\"\\nAttempting to read a non-existent file:\")\n",
        "non_existent_list = read_file_to_list(\"non_existent_list_file.txt\")\n",
        "print(non_existent_list)"
      ],
      "execution_count": 2,
      "outputs": [
        {
          "output_type": "stream",
          "name": "stdout",
          "text": [
            "Created sample file: sample_list_file.txt\n",
            "\n",
            "Attempting to read a non-existent file:\n",
            "Error: The file 'non_existent_list_file.txt' was not found.\n",
            "None\n"
          ]
        }
      ]
    },
    {
      "cell_type": "markdown",
      "source": [
        "**10.How can you append data to an existing file in Python**"
      ],
      "metadata": {
        "id": "xI7MOIJXaOeu"
      }
    },
    {
      "cell_type": "code",
      "metadata": {
        "colab": {
          "base_uri": "https://localhost:8080/"
        },
        "id": "dcf18037",
        "outputId": "60ff53ef-cffb-4658-f19c-8791c1090a27"
      },
      "source": [
        "file_path = 'append_example.txt'\n",
        "data_to_append = \"\\nThis line will be appended.\"\n",
        "\n",
        "# Create the file first with some initial content\n",
        "try:\n",
        "    with open(file_path, 'w') as f:\n",
        "        f.write(\"This is the original content.\")\n",
        "    print(f\"Created initial file: {file_path}\")\n",
        "except Exception as e:\n",
        "    print(f\"Error creating initial file: {e}\")\n",
        "\n",
        "# Now, append data to the file\n",
        "print(f\"\\nAppending data to '{file_path}'...\")\n",
        "try:\n",
        "    with open(file_path, 'a') as f:\n",
        "        f.write(data_to_append)\n",
        "    print(\"Data successfully appended.\")\n",
        "except FileNotFoundError:\n",
        "    print(f\"Error: The file '{file_path}' was not found for appending.\")\n",
        "except Exception as e:\n",
        "    print(f\"An error occurred during appending: {e}\")\n",
        "\n",
        "# Optional: Verify the content of the file\n",
        "print(f\"\\nContent of '{file_path}' after appending:\")\n",
        "try:\n",
        "    with open(file_path, 'r') as f:\n",
        "        content = f.read()\n",
        "        print(content)\n",
        "except FileNotFoundError:\n",
        "    print(f\"Error: The file '{file_path}' was not found for reading.\")\n",
        "except Exception as e:\n",
        "    print(f\"An error occurred during reading: {e}\")"
      ],
      "execution_count": 3,
      "outputs": [
        {
          "output_type": "stream",
          "name": "stdout",
          "text": [
            "Created initial file: append_example.txt\n",
            "\n",
            "Appending data to 'append_example.txt'...\n",
            "Data successfully appended.\n",
            "\n",
            "Content of 'append_example.txt' after appending:\n",
            "This is the original content.\n",
            "This line will be appended.\n"
          ]
        }
      ]
    },
    {
      "cell_type": "markdown",
      "source": [
        "**11.Write a Python program that uses a try-except block to handle an error when attempting to access a dictionary key that doesn't exist**"
      ],
      "metadata": {
        "id": "_7og9vBCaeRK"
      }
    },
    {
      "cell_type": "code",
      "metadata": {
        "colab": {
          "base_uri": "https://localhost:8080/"
        },
        "id": "0415e310",
        "outputId": "ca9ff3db-1200-4ce4-bf33-8b4a12ca5754"
      },
      "source": [
        "def get_value_from_dict(my_dict, key):\n",
        "  \"\"\"Attempts to get a value from a dictionary and handles KeyError.\"\"\"\n",
        "  try:\n",
        "    value = my_dict[key]\n",
        "    print(f\"The value for key '{key}' is: {value}\")\n",
        "  except KeyError:\n",
        "    print(f\"Error: The key '{key}' was not found in the dictionary.\")\n",
        "  except Exception as e:\n",
        "    print(f\"An unexpected error occurred: {e}\")\n",
        "\n",
        "# Create a sample dictionary\n",
        "my_data = {\"name\": \"Alice\", \"age\": 30, \"city\": \"New York\"}\n",
        "\n",
        "# Test cases\n",
        "print(\"Attempting to access an existing key:\")\n",
        "get_value_from_dict(my_data, \"name\")\n",
        "\n",
        "print(\"\\nAttempting to access a non-existent key:\")\n",
        "get_value_from_dict(my_data, \"email\")"
      ],
      "execution_count": 4,
      "outputs": [
        {
          "output_type": "stream",
          "name": "stdout",
          "text": [
            "Attempting to access an existing key:\n",
            "The value for key 'name' is: Alice\n",
            "\n",
            "Attempting to access a non-existent key:\n",
            "Error: The key 'email' was not found in the dictionary.\n"
          ]
        }
      ]
    },
    {
      "cell_type": "markdown",
      "source": [
        "**12. Write a program that demonstrates using multiple except blocks to handle different types of exceptions**"
      ],
      "metadata": {
        "id": "IejOq3AhasJI"
      }
    },
    {
      "cell_type": "code",
      "metadata": {
        "colab": {
          "base_uri": "https://localhost:8080/",
          "height": 391
        },
        "id": "6f9bfb71",
        "outputId": "b7d47253-f8c8-4bd2-dad6-46ac57b24a6d"
      },
      "source": [
        "def perform_operations():\n",
        "  \"\"\"Performs operations that might raise different exceptions.\"\"\"\n",
        "  try:\n",
        "    # Operation that might raise a ValueError\n",
        "    num = int(input(\"Enter an integer: \"))\n",
        "\n",
        "    # Operation that might raise a ZeroDivisionError\n",
        "    result = 10 / num\n",
        "\n",
        "    # Operation that might raise a TypeError\n",
        "    my_list = [1, 2, 3]\n",
        "    print(my_list + \"some_string\") # This will raise a TypeError\n",
        "\n",
        "  except ValueError:\n",
        "    print(\"Error: Invalid input. Please enter an integer.\")\n",
        "  except ZeroDivisionError:\n",
        "    print(\"Error: Division by zero is not allowed.\")\n",
        "  except TypeError:\n",
        "    print(\"Error: Cannot perform this operation with the given types.\")\n",
        "  except Exception as e:\n",
        "    # This will catch any other unexpected exceptions\n",
        "    print(f\"An unexpected error occurred: {e}\")\n",
        "  else:\n",
        "    print(\"All operations completed successfully.\")\n",
        "    print(f\"Result of division: {result}\")\n",
        "  finally:\n",
        "    print(\"This block is always executed.\")\n",
        "\n",
        "# Test the function\n",
        "print(\"--- First attempt (enter a non-integer) ---\")\n",
        "perform_operations()\n",
        "\n",
        "print(\"\\n--- Second attempt (enter 0) ---\")\n",
        "perform_operations()\n",
        "\n",
        "print(\"\\n--- Third attempt (enter a valid integer) ---\")\n",
        "perform_operations()"
      ],
      "execution_count": 10,
      "outputs": [
        {
          "output_type": "stream",
          "name": "stdout",
          "text": [
            "--- First attempt (enter a non-integer) ---\n",
            "This block is always executed.\n"
          ]
        },
        {
          "output_type": "error",
          "ename": "KeyboardInterrupt",
          "evalue": "Interrupted by user",
          "traceback": [
            "\u001b[0;31m---------------------------------------------------------------------------\u001b[0m",
            "\u001b[0;31mKeyboardInterrupt\u001b[0m                         Traceback (most recent call last)",
            "\u001b[0;32m/tmp/ipython-input-3723103843.py\u001b[0m in \u001b[0;36m<cell line: 0>\u001b[0;34m()\u001b[0m\n\u001b[1;32m     29\u001b[0m \u001b[0;31m# Test the function\u001b[0m\u001b[0;34m\u001b[0m\u001b[0;34m\u001b[0m\u001b[0m\n\u001b[1;32m     30\u001b[0m \u001b[0mprint\u001b[0m\u001b[0;34m(\u001b[0m\u001b[0;34m\"--- First attempt (enter a non-integer) ---\"\u001b[0m\u001b[0;34m)\u001b[0m\u001b[0;34m\u001b[0m\u001b[0;34m\u001b[0m\u001b[0m\n\u001b[0;32m---> 31\u001b[0;31m \u001b[0mperform_operations\u001b[0m\u001b[0;34m(\u001b[0m\u001b[0;34m)\u001b[0m\u001b[0;34m\u001b[0m\u001b[0;34m\u001b[0m\u001b[0m\n\u001b[0m\u001b[1;32m     32\u001b[0m \u001b[0;34m\u001b[0m\u001b[0m\n\u001b[1;32m     33\u001b[0m \u001b[0mprint\u001b[0m\u001b[0;34m(\u001b[0m\u001b[0;34m\"\\n--- Second attempt (enter 0) ---\"\u001b[0m\u001b[0;34m)\u001b[0m\u001b[0;34m\u001b[0m\u001b[0;34m\u001b[0m\u001b[0m\n",
            "\u001b[0;32m/tmp/ipython-input-3723103843.py\u001b[0m in \u001b[0;36mperform_operations\u001b[0;34m()\u001b[0m\n\u001b[1;32m      3\u001b[0m   \u001b[0;32mtry\u001b[0m\u001b[0;34m:\u001b[0m\u001b[0;34m\u001b[0m\u001b[0;34m\u001b[0m\u001b[0m\n\u001b[1;32m      4\u001b[0m     \u001b[0;31m# Operation that might raise a ValueError\u001b[0m\u001b[0;34m\u001b[0m\u001b[0;34m\u001b[0m\u001b[0m\n\u001b[0;32m----> 5\u001b[0;31m     \u001b[0mnum\u001b[0m \u001b[0;34m=\u001b[0m \u001b[0mint\u001b[0m\u001b[0;34m(\u001b[0m\u001b[0minput\u001b[0m\u001b[0;34m(\u001b[0m\u001b[0;34m\"Enter an integer: \"\u001b[0m\u001b[0;34m)\u001b[0m\u001b[0;34m)\u001b[0m\u001b[0;34m\u001b[0m\u001b[0;34m\u001b[0m\u001b[0m\n\u001b[0m\u001b[1;32m      6\u001b[0m \u001b[0;34m\u001b[0m\u001b[0m\n\u001b[1;32m      7\u001b[0m     \u001b[0;31m# Operation that might raise a ZeroDivisionError\u001b[0m\u001b[0;34m\u001b[0m\u001b[0;34m\u001b[0m\u001b[0m\n",
            "\u001b[0;32m/usr/local/lib/python3.12/dist-packages/ipykernel/kernelbase.py\u001b[0m in \u001b[0;36mraw_input\u001b[0;34m(self, prompt)\u001b[0m\n\u001b[1;32m   1175\u001b[0m                 \u001b[0;34m\"raw_input was called, but this frontend does not support input requests.\"\u001b[0m\u001b[0;34m\u001b[0m\u001b[0;34m\u001b[0m\u001b[0m\n\u001b[1;32m   1176\u001b[0m             )\n\u001b[0;32m-> 1177\u001b[0;31m         return self._input_request(\n\u001b[0m\u001b[1;32m   1178\u001b[0m             \u001b[0mstr\u001b[0m\u001b[0;34m(\u001b[0m\u001b[0mprompt\u001b[0m\u001b[0;34m)\u001b[0m\u001b[0;34m,\u001b[0m\u001b[0;34m\u001b[0m\u001b[0;34m\u001b[0m\u001b[0m\n\u001b[1;32m   1179\u001b[0m             \u001b[0mself\u001b[0m\u001b[0;34m.\u001b[0m\u001b[0m_parent_ident\u001b[0m\u001b[0;34m[\u001b[0m\u001b[0;34m\"shell\"\u001b[0m\u001b[0;34m]\u001b[0m\u001b[0;34m,\u001b[0m\u001b[0;34m\u001b[0m\u001b[0;34m\u001b[0m\u001b[0m\n",
            "\u001b[0;32m/usr/local/lib/python3.12/dist-packages/ipykernel/kernelbase.py\u001b[0m in \u001b[0;36m_input_request\u001b[0;34m(self, prompt, ident, parent, password)\u001b[0m\n\u001b[1;32m   1217\u001b[0m             \u001b[0;32mexcept\u001b[0m \u001b[0mKeyboardInterrupt\u001b[0m\u001b[0;34m:\u001b[0m\u001b[0;34m\u001b[0m\u001b[0;34m\u001b[0m\u001b[0m\n\u001b[1;32m   1218\u001b[0m                 \u001b[0;31m# re-raise KeyboardInterrupt, to truncate traceback\u001b[0m\u001b[0;34m\u001b[0m\u001b[0;34m\u001b[0m\u001b[0m\n\u001b[0;32m-> 1219\u001b[0;31m                 \u001b[0;32mraise\u001b[0m \u001b[0mKeyboardInterrupt\u001b[0m\u001b[0;34m(\u001b[0m\u001b[0;34m\"Interrupted by user\"\u001b[0m\u001b[0;34m)\u001b[0m \u001b[0;32mfrom\u001b[0m \u001b[0;32mNone\u001b[0m\u001b[0;34m\u001b[0m\u001b[0;34m\u001b[0m\u001b[0m\n\u001b[0m\u001b[1;32m   1220\u001b[0m             \u001b[0;32mexcept\u001b[0m \u001b[0mException\u001b[0m\u001b[0;34m:\u001b[0m\u001b[0;34m\u001b[0m\u001b[0;34m\u001b[0m\u001b[0m\n\u001b[1;32m   1221\u001b[0m                 \u001b[0mself\u001b[0m\u001b[0;34m.\u001b[0m\u001b[0mlog\u001b[0m\u001b[0;34m.\u001b[0m\u001b[0mwarning\u001b[0m\u001b[0;34m(\u001b[0m\u001b[0;34m\"Invalid Message:\"\u001b[0m\u001b[0;34m,\u001b[0m \u001b[0mexc_info\u001b[0m\u001b[0;34m=\u001b[0m\u001b[0;32mTrue\u001b[0m\u001b[0;34m)\u001b[0m\u001b[0;34m\u001b[0m\u001b[0;34m\u001b[0m\u001b[0m\n",
            "\u001b[0;31mKeyboardInterrupt\u001b[0m: Interrupted by user"
          ]
        }
      ]
    },
    {
      "cell_type": "markdown",
      "source": [
        "**13.How would you check if a file exists before attempting to read it in Python**"
      ],
      "metadata": {
        "id": "LTHAm366bFNn"
      }
    },
    {
      "cell_type": "code",
      "metadata": {
        "colab": {
          "base_uri": "https://localhost:8080/"
        },
        "id": "7bf81edb",
        "outputId": "70ebbff5-00f6-4ae5-9099-527b9a5dd08b"
      },
      "source": [
        "import os\n",
        "\n",
        "def read_file_if_exists(filename):\n",
        "  \"\"\"Checks if a file exists and reads it if it does.\"\"\"\n",
        "  if os.path.exists(filename):\n",
        "    print(f\"File '{filename}' exists. Attempting to read...\")\n",
        "    try:\n",
        "      with open(filename, 'r') as f:\n",
        "        content = f.read()\n",
        "        print(\"File content:\")\n",
        "        print(content)\n",
        "    except Exception as e:\n",
        "      print(f\"An error occurred while reading the file: {e}\")\n",
        "  else:\n",
        "    print(f\"Error: File '{filename}' does not exist.\")\n",
        "\n",
        "# Create a dummy file for testing\n",
        "existing_file = \"my_existing_file.txt\"\n",
        "with open(existing_file, \"w\") as f:\n",
        "  f.write(\"This file exists and will be read.\")\n",
        "\n",
        "# Test with an existing file\n",
        "read_file_if_exists(existing_file)\n",
        "\n",
        "# Test with a non-existent file\n",
        "non_existent_file = \"my_non_existent_file.txt\"\n",
        "read_file_if_exists(non_existent_file)"
      ],
      "execution_count": 9,
      "outputs": [
        {
          "output_type": "stream",
          "name": "stdout",
          "text": [
            "File 'my_existing_file.txt' exists. Attempting to read...\n",
            "File content:\n",
            "This file exists and will be read.\n",
            "Error: File 'my_non_existent_file.txt' does not exist.\n"
          ]
        }
      ]
    },
    {
      "cell_type": "markdown",
      "source": [
        "**14. Write a program that uses the logging module to log both informational and error messages**"
      ],
      "metadata": {
        "id": "-WqoGKttbf_2"
      }
    },
    {
      "cell_type": "code",
      "metadata": {
        "colab": {
          "base_uri": "https://localhost:8080/"
        },
        "id": "98d662b2",
        "outputId": "1b1fd468-1254-4f3c-a761-e5aaf1d3d2f2"
      },
      "source": [
        "import logging\n",
        "\n",
        "# Configure logging: set level to INFO to see both INFO and ERROR messages\n",
        "logging.basicConfig(level=logging.INFO, format='%(asctime)s - %(levelname)s - %(message)s')\n",
        "\n",
        "def process_data(data):\n",
        "  \"\"\"Processes data and logs informational or error messages.\"\"\"\n",
        "  if not data:\n",
        "    logging.error(\"Data is empty. Cannot process.\")\n",
        "    return False\n",
        "  else:\n",
        "    logging.info(\"Data received successfully. Starting processing.\")\n",
        "    # Simulate some processing\n",
        "    try:\n",
        "      result = 10 / len(data) # Example that might cause ZeroDivisionError if data is empty list\n",
        "      logging.info(f\"Processing successful. Result: {result}\")\n",
        "      return True\n",
        "    except ZeroDivisionError:\n",
        "      logging.error(\"Attempted division by zero during processing.\")\n",
        "      return False\n",
        "    except Exception as e:\n",
        "      logging.error(f\"An unexpected error occurred during processing: {e}\")\n",
        "      return False\n",
        "\n",
        "\n",
        "# Test cases\n",
        "print(\"--- Processing with valid data ---\")\n",
        "process_data([1, 2, 3, 4, 5])\n",
        "\n",
        "print(\"\\n--- Processing with empty data ---\")\n",
        "process_data([])\n",
        "\n",
        "print(\"\\n--- Processing with None data ---\")\n",
        "process_data(None)"
      ],
      "execution_count": 8,
      "outputs": [
        {
          "output_type": "stream",
          "name": "stderr",
          "text": [
            "ERROR:root:Data is empty. Cannot process.\n",
            "ERROR:root:Data is empty. Cannot process.\n"
          ]
        },
        {
          "output_type": "stream",
          "name": "stdout",
          "text": [
            "--- Processing with valid data ---\n",
            "\n",
            "--- Processing with empty data ---\n",
            "\n",
            "--- Processing with None data ---\n"
          ]
        },
        {
          "output_type": "execute_result",
          "data": {
            "text/plain": [
              "False"
            ]
          },
          "metadata": {},
          "execution_count": 8
        }
      ]
    },
    {
      "cell_type": "markdown",
      "source": [
        "**15.Write a Python program that prints the content of a file and handles the case when the file is empty**"
      ],
      "metadata": {
        "id": "EsnBtqhTcP7V"
      }
    },
    {
      "cell_type": "code",
      "metadata": {
        "colab": {
          "base_uri": "https://localhost:8080/"
        },
        "id": "4141abcc",
        "outputId": "8362fc00-d759-47e3-8ecb-10767392cb08"
      },
      "source": [
        "import os\n",
        "\n",
        "def print_file_content(filename):\n",
        "  \"\"\"Reads and prints file content, handling empty files.\"\"\"\n",
        "  try:\n",
        "    with open(filename, 'r') as f:\n",
        "      content = f.read()\n",
        "      if content:\n",
        "        print(f\"Content of '{filename}':\")\n",
        "        print(content)\n",
        "      else:\n",
        "        print(f\"File '{filename}' is empty.\")\n",
        "  except FileNotFoundError:\n",
        "    print(f\"Error: The file '{filename}' was not found.\")\n",
        "  except Exception as e:\n",
        "    print(f\"An unexpected error occurred: {e}\")\n",
        "\n",
        "# Create a sample non-empty file\n",
        "non_empty_file = \"non_empty_file.txt\"\n",
        "with open(non_empty_file, \"w\") as f:\n",
        "  f.write(\"This file has content.\")\n",
        "\n",
        "# Create a sample empty file\n",
        "empty_file = \"empty_file.txt\"\n",
        "with open(empty_file, \"w\") as f:\n",
        "  pass # Creates an empty file\n",
        "\n",
        "# Test with a non-empty file\n",
        "print(\"--- Testing with a non-empty file ---\")\n",
        "print_file_content(non_empty_file)\n",
        "\n",
        "# Test with an empty file\n",
        "print(\"\\n--- Testing with an empty file ---\")\n",
        "print_file_content(empty_file)\n",
        "\n",
        "# Test with a non-existent file\n",
        "print(\"\\n--- Testing with a non-existent file ---\")\n",
        "print_file_content(\"non_existent_file.txt\")"
      ],
      "execution_count": 3,
      "outputs": [
        {
          "output_type": "stream",
          "name": "stdout",
          "text": [
            "--- Testing with a non-empty file ---\n",
            "Content of 'non_empty_file.txt':\n",
            "This file has content.\n",
            "\n",
            "--- Testing with an empty file ---\n",
            "File 'empty_file.txt' is empty.\n",
            "\n",
            "--- Testing with a non-existent file ---\n",
            "Error: The file 'non_existent_file.txt' was not found.\n"
          ]
        }
      ]
    },
    {
      "cell_type": "markdown",
      "source": [
        "**16.Demonstrate how to use memory profiling to check the memory usage of a small program**"
      ],
      "metadata": {
        "id": "boZkmJq4cs7i"
      }
    },
    {
      "cell_type": "code",
      "metadata": {
        "colab": {
          "base_uri": "https://localhost:8080/"
        },
        "id": "a9c8e60e",
        "outputId": "06a8f1a2-05aa-4a20-e205-ea62b14d3374"
      },
      "source": [
        "%pip install memory-profiler"
      ],
      "execution_count": 1,
      "outputs": [
        {
          "output_type": "stream",
          "name": "stdout",
          "text": [
            "Collecting memory-profiler\n",
            "  Downloading memory_profiler-0.61.0-py3-none-any.whl.metadata (20 kB)\n",
            "Requirement already satisfied: psutil in /usr/local/lib/python3.12/dist-packages (from memory-profiler) (5.9.5)\n",
            "Downloading memory_profiler-0.61.0-py3-none-any.whl (31 kB)\n",
            "Installing collected packages: memory-profiler\n",
            "Successfully installed memory-profiler-0.61.0\n"
          ]
        }
      ]
    },
    {
      "cell_type": "markdown",
      "metadata": {
        "id": "22b341cf"
      },
      "source": [
        "Now, we can write a small program and use the `%memit` or `%%memit` magic commands provided by `memory-profiler` to profile its memory usage."
      ]
    },
    {
      "cell_type": "code",
      "metadata": {
        "colab": {
          "base_uri": "https://localhost:8080/"
        },
        "id": "c2951c93",
        "outputId": "bcb1b7b4-3a29-495e-e383-8e2f00b429b8"
      },
      "source": [
        "from memory_profiler import profile\n",
        "\n",
        "@profile\n",
        "def create_large_list():\n",
        "  \"\"\"Creates a large list to demonstrate memory usage.\"\"\"\n",
        "  large_list = [i * 100 for i in range(1000000)]\n",
        "  return large_list\n",
        "\n",
        "if __name__ == '__main__':\n",
        "  print(\"Creating a large list and profiling memory usage...\")\n",
        "  my_list = create_large_list()\n",
        "  print(\"List created.\")\n",
        "\n",
        "# You can also use the %%memit magic command for a whole cell\n",
        "# %%memit\n",
        "# another_list = [i for i in range(5000000)]"
      ],
      "execution_count": 2,
      "outputs": [
        {
          "output_type": "stream",
          "name": "stdout",
          "text": [
            "Creating a large list and profiling memory usage...\n",
            "ERROR: Could not find file /tmp/ipython-input-377050202.py\n",
            "List created.\n"
          ]
        }
      ]
    },
    {
      "cell_type": "markdown",
      "source": [
        "**17.Write a Python program to create and write a list of numbers to a file, one number per line**"
      ],
      "metadata": {
        "id": "LExINyzWdZSZ"
      }
    },
    {
      "cell_type": "code",
      "metadata": {
        "colab": {
          "base_uri": "https://localhost:8080/"
        },
        "id": "3bcb45a0",
        "outputId": "9eca8c32-0e99-4295-a5bb-53a1592570ef"
      },
      "source": [
        "def write_list_to_file(filename, data_list):\n",
        "  \"\"\"Writes a list of data to a file, one item per line.\"\"\"\n",
        "  try:\n",
        "    with open(filename, 'w') as f:\n",
        "      for item in data_list:\n",
        "        f.write(str(item) + '\\n') # Convert each item to a string and add a newline\n",
        "    print(f\"List successfully written to '{filename}'.\")\n",
        "  except Exception as e:\n",
        "    print(f\"An error occurred while writing to the file: {e}\")\n",
        "\n",
        "# Create a list of numbers\n",
        "numbers = [10, 25, 5, 42, 18, 7]\n",
        "\n",
        "# Define the filename\n",
        "output_file = \"numbers_list.txt\"\n",
        "\n",
        "# Write the list to the file\n",
        "write_list_to_file(output_file, numbers)\n",
        "\n",
        "# Optional: Verify the content of the file\n",
        "print(f\"\\nContent of '{output_file}':\")\n",
        "try:\n",
        "    with open(output_file, 'r') as f:\n",
        "        content = f.read()\n",
        "        print(content)\n",
        "except FileNotFoundError:\n",
        "    print(f\"File '{output_file}' not found.\")\n",
        "except Exception as e:\n",
        "    print(f\"An error occurred while reading the file: {e}\")"
      ],
      "execution_count": 4,
      "outputs": [
        {
          "output_type": "stream",
          "name": "stdout",
          "text": [
            "List successfully written to 'numbers_list.txt'.\n",
            "\n",
            "Content of 'numbers_list.txt':\n",
            "10\n",
            "25\n",
            "5\n",
            "42\n",
            "18\n",
            "7\n",
            "\n"
          ]
        }
      ]
    },
    {
      "cell_type": "markdown",
      "source": [
        "**18.How would you implement a basic logging setup that logs to a file with rotation after 1MB**"
      ],
      "metadata": {
        "id": "4Xcc6SdTdmJv"
      }
    },
    {
      "cell_type": "code",
      "metadata": {
        "colab": {
          "base_uri": "https://localhost:8080/"
        },
        "id": "0fbb596d",
        "outputId": "607f1210-9c7f-47fc-81b1-bd6f22b74b9f"
      },
      "source": [
        "import logging\n",
        "from logging.handlers import RotatingFileHandler\n",
        "import os\n",
        "\n",
        "# Define the log file path\n",
        "log_file = 'rotating_log.log'\n",
        "\n",
        "# Configure the root logger\n",
        "# Set the overall logging level (e.g., INFO to capture INFO, WARNING, ERROR, CRITICAL)\n",
        "logging.basicConfig(level=logging.INFO,\n",
        "                    format='%(asctime)s - %(name)s - %(levelname)s - %(message)s')\n",
        "\n",
        "# Create a rotating file handler\n",
        "# filename: the name of the log file\n",
        "# maxBytes: the maximum size of the log file in bytes (1MB = 1024 * 1024 bytes)\n",
        "# backupCount: the number of backup files to keep\n",
        "file_handler = RotatingFileHandler(log_file, maxBytes=1024 * 1024, backupCount=5)\n",
        "\n",
        "# Create a formatter\n",
        "formatter = logging.Formatter('%(asctime)s - %(name)s - %(levelname)s - %(message)s')\n",
        "\n",
        "# Set the formatter for the file handler\n",
        "file_handler.setFormatter(formatter)\n",
        "\n",
        "# Get the root logger and add the handler\n",
        "logger = logging.getLogger('') # Get the root logger\n",
        "logger.addHandler(file_handler)\n",
        "\n",
        "print(f\"Logging configured to write to '{log_file}' with rotation.\")\n",
        "\n",
        "# Now you can log messages\n",
        "logging.info(\"This is an informational message.\")\n",
        "logging.warning(\"This is a warning message.\")\n",
        "logging.error(\"This is an error message.\")\n",
        "\n",
        "# Simulate writing enough data to trigger rotation (optional)\n",
        "# You would need to write significantly more data than 1MB for this to be visible\n",
        "# in a quick test.\n",
        "# For demonstration purposes, let's just log a few messages.\n",
        "for i in range(100):\n",
        "    logging.info(f\"Logging message number {i + 1}\")\n",
        "\n",
        "print(\"\\nLog messages have been written. Check the log file and potential rotated files.\")\n",
        "\n",
        "# You can optionally read the current log file content\n",
        "try:\n",
        "    with open(log_file, 'r') as f:\n",
        "        print(f\"\\nContent of '{log_file}':\")\n",
        "        # Print only the last few lines as the file can get large quickly\n",
        "        lines = f.readlines()\n",
        "        print(\"\".join(lines[-10:])) # Print last 10 lines\n",
        "except FileNotFoundError:\n",
        "    print(f\"Log file '{log_file}' not found yet.\")\n",
        "except Exception as e:\n",
        "    print(f\"An error occurred while reading the log file: {e}\")\n",
        "\n",
        "# Check for rotated files (e.g., rotating_log.log.1, rotating_log.log.2, etc.)\n",
        "print(\"\\nChecking for rotated log files:\")\n",
        "log_dir = os.path.dirname(log_file) if os.path.dirname(log_file) else '.'\n",
        "for item in os.listdir(log_dir):\n",
        "    if item.startswith(os.path.basename(log_file)) and item != os.path.basename(log_file):\n",
        "        print(f\"Found rotated file: {item}\")"
      ],
      "execution_count": 5,
      "outputs": [
        {
          "output_type": "stream",
          "name": "stderr",
          "text": [
            "WARNING:root:This is a warning message.\n",
            "ERROR:root:This is an error message.\n"
          ]
        },
        {
          "output_type": "stream",
          "name": "stdout",
          "text": [
            "Logging configured to write to 'rotating_log.log' with rotation.\n",
            "\n",
            "Log messages have been written. Check the log file and potential rotated files.\n",
            "\n",
            "Content of 'rotating_log.log':\n",
            "2025-09-15 17:41:21,678 - root - WARNING - This is a warning message.\n",
            "2025-09-15 17:41:21,679 - root - ERROR - This is an error message.\n",
            "\n",
            "\n",
            "Checking for rotated log files:\n"
          ]
        }
      ]
    },
    {
      "cell_type": "markdown",
      "source": [
        "**19.Write a program that handles both IndexError and KeyError using a try-except block**"
      ],
      "metadata": {
        "id": "osGgnFSRd7eO"
      }
    },
    {
      "cell_type": "code",
      "metadata": {
        "colab": {
          "base_uri": "https://localhost:8080/"
        },
        "id": "1c63af0f",
        "outputId": "6b124d4a-01ae-479a-8b16-754756d003b6"
      },
      "source": [
        "def access_data(data, index, key):\n",
        "  \"\"\"Attempts to access list index and dictionary key, handling errors.\"\"\"\n",
        "  try:\n",
        "    # Attempt to access a list element\n",
        "    list_value = data[index]\n",
        "    print(f\"Value at index {index}: {list_value}\")\n",
        "\n",
        "    # Attempt to access a dictionary key\n",
        "    dict_value = data[key]\n",
        "    print(f\"Value for key '{key}': {dict_value}\")\n",
        "\n",
        "  except IndexError:\n",
        "    print(f\"Error: Invalid index {index}. Index is out of range for the list.\")\n",
        "  except KeyError:\n",
        "    print(f\"Error: The key '{key}' was not found in the dictionary.\")\n",
        "  except Exception as e:\n",
        "    print(f\"An unexpected error occurred: {e}\")\n",
        "\n",
        "# Create sample data\n",
        "my_list = [10, 20, 30]\n",
        "my_dict = {\"name\": \"Alice\", \"age\": 30}\n",
        "\n",
        "# Test cases\n",
        "print(\"--- Accessing valid index and key ---\")\n",
        "access_data(my_list, 1, \"name\") # Using the list, access index 1, key \"name\"\n",
        "\n",
        "print(\"\\n--- Accessing invalid index ---\")\n",
        "access_data(my_list, 5, \"name\") # Using the list, access invalid index 5, key \"name\"\n",
        "\n",
        "print(\"\\n--- Accessing invalid key ---\")\n",
        "access_data(my_dict, 0, \"email\") # Using the dictionary, access index 0 (will not raise IndexError on dict), invalid key \"email\"\n",
        "\n",
        "print(\"\\n--- Accessing invalid index and invalid key (IndexError first) ---\")\n",
        "access_data(my_list, 5, \"email\") # Using the list, invalid index 5, invalid key \"email\"\n",
        "\n",
        "print(\"\\n--- Accessing invalid key and invalid index (KeyError first) ---\")\n",
        "# Note: The order of except blocks matters if a single operation could raise multiple errors,\n",
        "# but in this case, accessing a list index raises IndexError and accessing a dict key raises KeyError.\n",
        "# The code structure attempts list access first, then dict access.\n",
        "access_data(my_dict, 5, \"email\")"
      ],
      "execution_count": 6,
      "outputs": [
        {
          "output_type": "stream",
          "name": "stdout",
          "text": [
            "--- Accessing valid index and key ---\n",
            "Value at index 1: 20\n",
            "An unexpected error occurred: list indices must be integers or slices, not str\n",
            "\n",
            "--- Accessing invalid index ---\n",
            "Error: Invalid index 5. Index is out of range for the list.\n",
            "\n",
            "--- Accessing invalid key ---\n",
            "Error: The key 'email' was not found in the dictionary.\n",
            "\n",
            "--- Accessing invalid index and invalid key (IndexError first) ---\n",
            "Error: Invalid index 5. Index is out of range for the list.\n",
            "\n",
            "--- Accessing invalid key and invalid index (KeyError first) ---\n",
            "Error: The key 'email' was not found in the dictionary.\n"
          ]
        }
      ]
    },
    {
      "cell_type": "markdown",
      "source": [
        "**20.How would you open a file and read its contents using a context manager in Python**"
      ],
      "metadata": {
        "id": "o9DJP2VqeKGU"
      }
    },
    {
      "cell_type": "code",
      "metadata": {
        "colab": {
          "base_uri": "https://localhost:8080/"
        },
        "id": "a20f2d27",
        "outputId": "439f6435-8836-445f-e453-57bdb137d6d4"
      },
      "source": [
        "def read_file_with_context_manager(filename):\n",
        "  \"\"\"Opens and reads a file using a context manager.\"\"\"\n",
        "  try:\n",
        "    with open(filename, 'r') as f:\n",
        "      content = f.read()\n",
        "      print(f\"Content of '{filename}':\")\n",
        "      print(content)\n",
        "  except FileNotFoundError:\n",
        "    print(f\"Error: The file '{filename}' was not found.\")\n",
        "  except Exception as e:\n",
        "    print(f\"An unexpected error occurred: {e}\")\n",
        "\n",
        "# Create a sample file for testing\n",
        "sample_file = \"context_manager_example.txt\"\n",
        "with open(sample_file, \"w\") as f:\n",
        "  f.write(\"This file is read using a context manager.\")\n",
        "\n",
        "# Read the file using the function\n",
        "read_file_with_context_manager(sample_file)\n",
        "\n",
        "# Test with a non-existent file\n",
        "print(\"\\nAttempting to read a non-existent file:\")\n",
        "read_file_with_context_manager(\"non_existent_context_file.txt\")"
      ],
      "execution_count": 7,
      "outputs": [
        {
          "output_type": "stream",
          "name": "stdout",
          "text": [
            "Content of 'context_manager_example.txt':\n",
            "This file is read using a context manager.\n",
            "\n",
            "Attempting to read a non-existent file:\n",
            "Error: The file 'non_existent_context_file.txt' was not found.\n"
          ]
        }
      ]
    },
    {
      "cell_type": "markdown",
      "source": [
        "**21.Write a Python program that reads a file and prints the number of occurrences of a specific word**"
      ],
      "metadata": {
        "id": "qOJ9rRbweSZd"
      }
    },
    {
      "cell_type": "code",
      "metadata": {
        "colab": {
          "base_uri": "https://localhost:8080/"
        },
        "id": "9630108f",
        "outputId": "f6204af7-477e-4078-c579-734667751d4e"
      },
      "source": [
        "import re\n",
        "\n",
        "def count_word_occurrences(filename, word):\n",
        "  \"\"\"Reads a file and counts the occurrences of a specific word.\"\"\"\n",
        "  count = 0\n",
        "  try:\n",
        "    with open(filename, 'r') as f:\n",
        "      content = f.read()\n",
        "      # Use regex to find all occurrences of the word (case-insensitive)\n",
        "      # re.findall returns a list of all non-overlapping matches\n",
        "      # re.escape is used to escape any special characters in the word\n",
        "      # re.IGNORECASE makes the search case-insensitive\n",
        "      occurrences = re.findall(r'\\b' + re.escape(word) + r'\\b', content, re.IGNORECASE)\n",
        "      count = len(occurrences)\n",
        "      print(f\"The word '{word}' appears {count} times in '{filename}'.\")\n",
        "\n",
        "  except FileNotFoundError:\n",
        "    print(f\"Error: The file '{filename}' was not found.\")\n",
        "  except Exception as e:\n",
        "    print(f\"An unexpected error occurred: {e}\")\n",
        "\n",
        "# Create a sample file for testing\n",
        "sample_file = \"word_count_example.txt\"\n",
        "sample_content = \"\"\"This is a sample file.\n",
        "This file contains the word sample multiple times.\n",
        "Sample, sample, sample.\"\"\"\n",
        "\n",
        "with open(sample_file, \"w\") as f:\n",
        "  f.write(sample_content)\n",
        "\n",
        "# Define the word to count\n",
        "word_to_find = \"sample\"\n",
        "\n",
        "# Count the occurrences of the word\n",
        "count_word_occurrences(sample_file, word_to_find)\n",
        "\n",
        "# Test with a non-existent file\n",
        "print(\"\\n--- Testing with a non-existent file ---\")\n",
        "count_word_occurrences(\"non_existent_word_count_file.txt\", word_to_find)\n",
        "\n",
        "# Test with a word that doesn't exist\n",
        "print(\"\\n--- Testing with a word not in the file ---\")\n",
        "count_word_occurrences(sample_file, \"python\")"
      ],
      "execution_count": 8,
      "outputs": [
        {
          "output_type": "stream",
          "name": "stdout",
          "text": [
            "The word 'sample' appears 5 times in 'word_count_example.txt'.\n",
            "\n",
            "--- Testing with a non-existent file ---\n",
            "Error: The file 'non_existent_word_count_file.txt' was not found.\n",
            "\n",
            "--- Testing with a word not in the file ---\n",
            "The word 'python' appears 0 times in 'word_count_example.txt'.\n"
          ]
        }
      ]
    },
    {
      "cell_type": "markdown",
      "source": [
        "**22.How can you check if a file is empty before attempting to read its contents**"
      ],
      "metadata": {
        "id": "USfElutOebdG"
      }
    },
    {
      "cell_type": "code",
      "metadata": {
        "colab": {
          "base_uri": "https://localhost:8080/"
        },
        "id": "27f958b9",
        "outputId": "04fbab8f-faa4-4d91-9a51-852e03762bc3"
      },
      "source": [
        "import os\n",
        "\n",
        "def is_file_empty_by_size(filepath):\n",
        "  \"\"\"Checks if a file is empty by checking its size.\"\"\"\n",
        "  if not os.path.exists(filepath):\n",
        "    print(f\"Error: File '{filepath}' not found.\")\n",
        "    return False # Or raise an error, depending on desired behavior\n",
        "  return os.path.getsize(filepath) == 0\n",
        "\n",
        "def is_file_empty_by_read(filepath):\n",
        "  \"\"\"Checks if a file is empty by attempting to read a small amount.\"\"\"\n",
        "  try:\n",
        "    with open(filepath, 'r') as f:\n",
        "      # Attempt to read just one character. If nothing is read, the file is empty.\n",
        "      content = f.read(1)\n",
        "      return not content\n",
        "  except FileNotFoundError:\n",
        "    print(f\"Error: File '{filepath}' not found.\")\n",
        "    return False\n",
        "  except Exception as e:\n",
        "    print(f\"An unexpected error occurred: {e}\")\n",
        "    return False\n",
        "\n",
        "# Create a sample non-empty file\n",
        "non_empty_file = \"check_empty_non_empty.txt\"\n",
        "with open(non_empty_file, \"w\") as f:\n",
        "  f.write(\"This file has content.\")\n",
        "\n",
        "# Create a sample empty file\n",
        "empty_file = \"check_empty_empty.txt\"\n",
        "with open(empty_file, \"w\") as f:\n",
        "  pass # Creates an empty file\n",
        "\n",
        "# Test cases using size check\n",
        "print(\"--- Checking emptiness by size ---\")\n",
        "print(f\"Is '{non_empty_file}' empty? {is_file_empty_by_size(non_empty_file)}\")\n",
        "print(f\"Is '{empty_file}' empty? {is_file_empty_by_size(empty_file)}\")\n",
        "print(f\"Is 'non_existent_file.txt' empty? {is_file_empty_by_size('non_existent_file.txt')}\")\n",
        "\n",
        "# Test cases using read check\n",
        "print(\"\\n--- Checking emptiness by reading ---\")\n",
        "print(f\"Is '{non_empty_file}' empty? {is_file_empty_by_read(non_empty_file)}\")\n",
        "print(f\"Is '{empty_file}' empty? {is_file_empty_by_read(empty_file)}\")\n",
        "print(f\"Is 'non_existent_file.txt' empty? {is_file_empty_by_read('non_existent_file.txt')}\")"
      ],
      "execution_count": 9,
      "outputs": [
        {
          "output_type": "stream",
          "name": "stdout",
          "text": [
            "--- Checking emptiness by size ---\n",
            "Is 'check_empty_non_empty.txt' empty? False\n",
            "Is 'check_empty_empty.txt' empty? True\n",
            "Error: File 'non_existent_file.txt' not found.\n",
            "Is 'non_existent_file.txt' empty? False\n",
            "\n",
            "--- Checking emptiness by reading ---\n",
            "Is 'check_empty_non_empty.txt' empty? False\n",
            "Is 'check_empty_empty.txt' empty? True\n",
            "Error: File 'non_existent_file.txt' not found.\n",
            "Is 'non_existent_file.txt' empty? False\n"
          ]
        }
      ]
    },
    {
      "cell_type": "markdown",
      "source": [
        "**23.Write a Python program that writes to a log file when an error occurs during file handling**"
      ],
      "metadata": {
        "id": "Dc8LgVt0euib"
      }
    },
    {
      "cell_type": "code",
      "metadata": {
        "colab": {
          "base_uri": "https://localhost:8080/"
        },
        "id": "46a603ab",
        "outputId": "1f16e807-639d-4d92-e52a-907a68e1c5a7"
      },
      "source": [
        "import logging\n",
        "\n",
        "# Configure logging to write to a file\n",
        "log_file = 'file_handling_errors.log'\n",
        "logging.basicConfig(filename=log_file, level=logging.ERROR, format='%(asctime)s - %(levelname)s - %(message)s')\n",
        "\n",
        "def safe_file_read(filename):\n",
        "  \"\"\"Attempts to read a file and logs an error if it fails.\"\"\"\n",
        "  try:\n",
        "    with open(filename, 'r') as f:\n",
        "      content = f.read()\n",
        "      print(f\"Successfully read content from '{filename}'.\")\n",
        "      # print(\"Content:\") # Uncomment to see content\n",
        "      # print(content)\n",
        "      logging.info(f\"Successfully read file: {filename}\")\n",
        "  except FileNotFoundError:\n",
        "    error_message = f\"Error: The file '{filename}' was not found.\"\n",
        "    print(error_message)\n",
        "    logging.error(error_message)\n",
        "  except Exception as e:\n",
        "    error_message = f\"An unexpected error occurred while handling '{filename}': {e}\"\n",
        "    print(error_message)\n",
        "    logging.error(error_message)\n",
        "\n",
        "# Test cases\n",
        "print(\"--- Attempting to read an existing file ---\")\n",
        "# Create a dummy file first\n",
        "existing_file = \"log_example_existing.txt\"\n",
        "with open(existing_file, \"w\") as f:\n",
        "  f.write(\"This is a test file.\")\n",
        "safe_file_read(existing_file)\n",
        "\n",
        "print(\"\\n--- Attempting to read a non-existent file ---\")\n",
        "non_existent_file = \"log_example_non_existent.txt\"\n",
        "safe_file_read(non_existent_file)\n",
        "\n",
        "print(f\"\\nCheck the log file '{log_file}' for error messages.\")\n",
        "\n",
        "# Optional: Read and print the content of the log file\n",
        "try:\n",
        "    with open(log_file, 'r') as f:\n",
        "        log_content = f.read()\n",
        "        print(f\"\\nContent of '{log_file}':\")\n",
        "        print(log_content)\n",
        "except FileNotFoundError:\n",
        "    print(f\"Log file '{log_file}' not found yet.\")\n",
        "except Exception as e:\n",
        "    print(f\"An error occurred while reading the log file: {e}\")"
      ],
      "execution_count": 10,
      "outputs": [
        {
          "output_type": "stream",
          "name": "stderr",
          "text": [
            "ERROR:root:Error: The file 'log_example_non_existent.txt' was not found.\n"
          ]
        },
        {
          "output_type": "stream",
          "name": "stdout",
          "text": [
            "--- Attempting to read an existing file ---\n",
            "Successfully read content from 'log_example_existing.txt'.\n",
            "\n",
            "--- Attempting to read a non-existent file ---\n",
            "Error: The file 'log_example_non_existent.txt' was not found.\n",
            "\n",
            "Check the log file 'file_handling_errors.log' for error messages.\n",
            "Log file 'file_handling_errors.log' not found yet.\n"
          ]
        }
      ]
    }
  ]
}